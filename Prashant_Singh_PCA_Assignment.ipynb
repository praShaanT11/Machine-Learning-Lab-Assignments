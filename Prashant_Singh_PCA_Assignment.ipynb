{
  "nbformat": 4,
  "nbformat_minor": 0,
  "metadata": {
    "colab": {
      "provenance": []
    },
    "kernelspec": {
      "name": "python3",
      "display_name": "Python 3"
    },
    "language_info": {
      "name": "python"
    }
  },
  "cells": [
    {
      "cell_type": "markdown",
      "source": [
        "**Name: Prashant Singh**\n",
        "\n",
        "**Enrollnment Number: SAU/CS/Mtech/(CS)/2024/04**\n",
        "\n",
        "**Assignment-2**\n",
        "\n",
        "**Questions:**\n",
        "\n",
        "**Question 1**:\n",
        "Write a function for PCA. The function should take data, the percent-\n",
        "age of variance to retain as inputs, and should return the data in the\n",
        "reduced space.\n",
        "\n",
        "\n",
        "**Question 2**:\n",
        "In the Iris dataset, choose the first 2 features, i.e. sepal length and sepal width.\n",
        "\n",
        "a) Run your code on this Iris dataset and retain the first two PCs.\n",
        "\n",
        "b) Plot the data points in the original space. Further, plot the principal\n",
        "components in the original space and show the transformed data.\n",
        "\n",
        "**Question 3:**\n",
        "\n",
        "a) Compute the percentage of variance captured by the PCs in question2.\n",
        "\n",
        "b) Calculate the Minimum Squared Error when retaining only the first\n",
        "PC.\n"
      ],
      "metadata": {
        "id": "h2ost3k1KvDn"
      }
    },
    {
      "cell_type": "markdown",
      "source": [
        "# DataLoading"
      ],
      "metadata": {
        "id": "sLoqOhRWpEQk"
      }
    },
    {
      "cell_type": "markdown",
      "source": [
        "# **About Iris Flower Dataset:**\n",
        "\n",
        "\n",
        "*   Iris Flower Dataset Contains 4 features i.e. Sepal Length, Sepal Width, Petal Length and Petal Width\n",
        "*   It has one target variable Species which is Variety containing 3 classes of 50 data each.\n",
        "\n"
      ],
      "metadata": {
        "id": "-jCtSfm3LyEw"
      }
    },
    {
      "cell_type": "code",
      "source": [
        "!wget https://gist.githubusercontent.com/netj/8836201/raw/iris.csv"
      ],
      "metadata": {
        "colab": {
          "base_uri": "https://localhost:8080/"
        },
        "id": "zmF21rCM9ak5",
        "outputId": "db07d946-eb3a-4034-82ec-40ab2cfc10c2"
      },
      "execution_count": null,
      "outputs": [
        {
          "output_type": "stream",
          "name": "stdout",
          "text": [
            "--2024-09-09 14:01:09--  https://gist.githubusercontent.com/netj/8836201/raw/iris.csv\n",
            "Resolving gist.githubusercontent.com (gist.githubusercontent.com)... 185.199.108.133, 185.199.110.133, 185.199.109.133, ...\n",
            "Connecting to gist.githubusercontent.com (gist.githubusercontent.com)|185.199.108.133|:443... connected.\n",
            "HTTP request sent, awaiting response... 200 OK\n",
            "Length: 3975 (3.9K) [text/plain]\n",
            "Saving to: ‘iris.csv’\n",
            "\n",
            "iris.csv            100%[===================>]   3.88K  --.-KB/s    in 0s      \n",
            "\n",
            "2024-09-09 14:01:10 (48.4 MB/s) - ‘iris.csv’ saved [3975/3975]\n",
            "\n"
          ]
        }
      ]
    },
    {
      "cell_type": "code",
      "execution_count": null,
      "metadata": {
        "colab": {
          "base_uri": "https://localhost:8080/"
        },
        "id": "GccUF2DulbCI",
        "outputId": "23ddb0e0-f52c-4844-86d6-a251e086d609"
      },
      "outputs": [
        {
          "output_type": "stream",
          "name": "stdout",
          "text": [
            "     sepal.length  sepal.width  petal.length  petal.width    variety\n",
            "0             5.1          3.5           1.4          0.2     Setosa\n",
            "1             4.9          3.0           1.4          0.2     Setosa\n",
            "2             4.7          3.2           1.3          0.2     Setosa\n",
            "3             4.6          3.1           1.5          0.2     Setosa\n",
            "4             5.0          3.6           1.4          0.2     Setosa\n",
            "..            ...          ...           ...          ...        ...\n",
            "145           6.7          3.0           5.2          2.3  Virginica\n",
            "146           6.3          2.5           5.0          1.9  Virginica\n",
            "147           6.5          3.0           5.2          2.0  Virginica\n",
            "148           6.2          3.4           5.4          2.3  Virginica\n",
            "149           5.9          3.0           5.1          1.8  Virginica\n",
            "\n",
            "[150 rows x 5 columns]\n"
          ]
        }
      ],
      "source": [
        "import pandas as pd\n",
        "import numpy as np\n",
        "import seaborn as sns\n",
        "import matplotlib.pyplot as plt\n",
        "\n",
        "\n",
        "datasetV=pd.read_csv('iris.csv')\n",
        "\n",
        "\n",
        "data=np.genfromtxt('iris.csv',delimiter=',',skip_header=1)\n",
        "dataI = data[:,:-1]\n",
        "print(datasetV)\n",
        "\n"
      ]
    },
    {
      "cell_type": "code",
      "source": [
        "datasetV.columns"
      ],
      "metadata": {
        "colab": {
          "base_uri": "https://localhost:8080/"
        },
        "id": "WRjAuLj0mrqc",
        "outputId": "77ce2c01-df10-4ac6-fcc6-122e484b507a"
      },
      "execution_count": null,
      "outputs": [
        {
          "output_type": "execute_result",
          "data": {
            "text/plain": [
              "Index(['sepal.length', 'sepal.width', 'petal.length', 'petal.width',\n",
              "       'variety'],\n",
              "      dtype='object')"
            ]
          },
          "metadata": {},
          "execution_count": 5
        }
      ]
    },
    {
      "cell_type": "code",
      "source": [
        "datasetV.info()"
      ],
      "metadata": {
        "colab": {
          "base_uri": "https://localhost:8080/"
        },
        "id": "ZFV8H4HoqRBP",
        "outputId": "84864013-3068-4dbd-8936-d0474c7306da"
      },
      "execution_count": null,
      "outputs": [
        {
          "output_type": "stream",
          "name": "stdout",
          "text": [
            "<class 'pandas.core.frame.DataFrame'>\n",
            "RangeIndex: 150 entries, 0 to 149\n",
            "Data columns (total 5 columns):\n",
            " #   Column        Non-Null Count  Dtype  \n",
            "---  ------        --------------  -----  \n",
            " 0   sepal.length  150 non-null    float64\n",
            " 1   sepal.width   150 non-null    float64\n",
            " 2   petal.length  150 non-null    float64\n",
            " 3   petal.width   150 non-null    float64\n",
            " 4   variety       150 non-null    object \n",
            "dtypes: float64(4), object(1)\n",
            "memory usage: 6.0+ KB\n"
          ]
        }
      ]
    },
    {
      "cell_type": "markdown",
      "source": [
        "As we can see Our Target variable is Variety and we have 4 features."
      ],
      "metadata": {
        "id": "qdd9JbUhqgMA"
      }
    },
    {
      "cell_type": "code",
      "source": [
        "datasetV.describe()"
      ],
      "metadata": {
        "colab": {
          "base_uri": "https://localhost:8080/",
          "height": 300
        },
        "id": "KhpxE82lrZgg",
        "outputId": "ea3e0cdd-10ab-45c0-f673-67fe3568620f"
      },
      "execution_count": null,
      "outputs": [
        {
          "output_type": "execute_result",
          "data": {
            "text/plain": [
              "       sepal.length  sepal.width  petal.length  petal.width\n",
              "count    150.000000   150.000000    150.000000   150.000000\n",
              "mean       5.843333     3.057333      3.758000     1.199333\n",
              "std        0.828066     0.435866      1.765298     0.762238\n",
              "min        4.300000     2.000000      1.000000     0.100000\n",
              "25%        5.100000     2.800000      1.600000     0.300000\n",
              "50%        5.800000     3.000000      4.350000     1.300000\n",
              "75%        6.400000     3.300000      5.100000     1.800000\n",
              "max        7.900000     4.400000      6.900000     2.500000"
            ],
            "text/html": [
              "\n",
              "  <div id=\"df-ca4b63b3-ed7f-4ef1-aa16-098402d7c809\" class=\"colab-df-container\">\n",
              "    <div>\n",
              "<style scoped>\n",
              "    .dataframe tbody tr th:only-of-type {\n",
              "        vertical-align: middle;\n",
              "    }\n",
              "\n",
              "    .dataframe tbody tr th {\n",
              "        vertical-align: top;\n",
              "    }\n",
              "\n",
              "    .dataframe thead th {\n",
              "        text-align: right;\n",
              "    }\n",
              "</style>\n",
              "<table border=\"1\" class=\"dataframe\">\n",
              "  <thead>\n",
              "    <tr style=\"text-align: right;\">\n",
              "      <th></th>\n",
              "      <th>sepal.length</th>\n",
              "      <th>sepal.width</th>\n",
              "      <th>petal.length</th>\n",
              "      <th>petal.width</th>\n",
              "    </tr>\n",
              "  </thead>\n",
              "  <tbody>\n",
              "    <tr>\n",
              "      <th>count</th>\n",
              "      <td>150.000000</td>\n",
              "      <td>150.000000</td>\n",
              "      <td>150.000000</td>\n",
              "      <td>150.000000</td>\n",
              "    </tr>\n",
              "    <tr>\n",
              "      <th>mean</th>\n",
              "      <td>5.843333</td>\n",
              "      <td>3.057333</td>\n",
              "      <td>3.758000</td>\n",
              "      <td>1.199333</td>\n",
              "    </tr>\n",
              "    <tr>\n",
              "      <th>std</th>\n",
              "      <td>0.828066</td>\n",
              "      <td>0.435866</td>\n",
              "      <td>1.765298</td>\n",
              "      <td>0.762238</td>\n",
              "    </tr>\n",
              "    <tr>\n",
              "      <th>min</th>\n",
              "      <td>4.300000</td>\n",
              "      <td>2.000000</td>\n",
              "      <td>1.000000</td>\n",
              "      <td>0.100000</td>\n",
              "    </tr>\n",
              "    <tr>\n",
              "      <th>25%</th>\n",
              "      <td>5.100000</td>\n",
              "      <td>2.800000</td>\n",
              "      <td>1.600000</td>\n",
              "      <td>0.300000</td>\n",
              "    </tr>\n",
              "    <tr>\n",
              "      <th>50%</th>\n",
              "      <td>5.800000</td>\n",
              "      <td>3.000000</td>\n",
              "      <td>4.350000</td>\n",
              "      <td>1.300000</td>\n",
              "    </tr>\n",
              "    <tr>\n",
              "      <th>75%</th>\n",
              "      <td>6.400000</td>\n",
              "      <td>3.300000</td>\n",
              "      <td>5.100000</td>\n",
              "      <td>1.800000</td>\n",
              "    </tr>\n",
              "    <tr>\n",
              "      <th>max</th>\n",
              "      <td>7.900000</td>\n",
              "      <td>4.400000</td>\n",
              "      <td>6.900000</td>\n",
              "      <td>2.500000</td>\n",
              "    </tr>\n",
              "  </tbody>\n",
              "</table>\n",
              "</div>\n",
              "    <div class=\"colab-df-buttons\">\n",
              "\n",
              "  <div class=\"colab-df-container\">\n",
              "    <button class=\"colab-df-convert\" onclick=\"convertToInteractive('df-ca4b63b3-ed7f-4ef1-aa16-098402d7c809')\"\n",
              "            title=\"Convert this dataframe to an interactive table.\"\n",
              "            style=\"display:none;\">\n",
              "\n",
              "  <svg xmlns=\"http://www.w3.org/2000/svg\" height=\"24px\" viewBox=\"0 -960 960 960\">\n",
              "    <path d=\"M120-120v-720h720v720H120Zm60-500h600v-160H180v160Zm220 220h160v-160H400v160Zm0 220h160v-160H400v160ZM180-400h160v-160H180v160Zm440 0h160v-160H620v160ZM180-180h160v-160H180v160Zm440 0h160v-160H620v160Z\"/>\n",
              "  </svg>\n",
              "    </button>\n",
              "\n",
              "  <style>\n",
              "    .colab-df-container {\n",
              "      display:flex;\n",
              "      gap: 12px;\n",
              "    }\n",
              "\n",
              "    .colab-df-convert {\n",
              "      background-color: #E8F0FE;\n",
              "      border: none;\n",
              "      border-radius: 50%;\n",
              "      cursor: pointer;\n",
              "      display: none;\n",
              "      fill: #1967D2;\n",
              "      height: 32px;\n",
              "      padding: 0 0 0 0;\n",
              "      width: 32px;\n",
              "    }\n",
              "\n",
              "    .colab-df-convert:hover {\n",
              "      background-color: #E2EBFA;\n",
              "      box-shadow: 0px 1px 2px rgba(60, 64, 67, 0.3), 0px 1px 3px 1px rgba(60, 64, 67, 0.15);\n",
              "      fill: #174EA6;\n",
              "    }\n",
              "\n",
              "    .colab-df-buttons div {\n",
              "      margin-bottom: 4px;\n",
              "    }\n",
              "\n",
              "    [theme=dark] .colab-df-convert {\n",
              "      background-color: #3B4455;\n",
              "      fill: #D2E3FC;\n",
              "    }\n",
              "\n",
              "    [theme=dark] .colab-df-convert:hover {\n",
              "      background-color: #434B5C;\n",
              "      box-shadow: 0px 1px 3px 1px rgba(0, 0, 0, 0.15);\n",
              "      filter: drop-shadow(0px 1px 2px rgba(0, 0, 0, 0.3));\n",
              "      fill: #FFFFFF;\n",
              "    }\n",
              "  </style>\n",
              "\n",
              "    <script>\n",
              "      const buttonEl =\n",
              "        document.querySelector('#df-ca4b63b3-ed7f-4ef1-aa16-098402d7c809 button.colab-df-convert');\n",
              "      buttonEl.style.display =\n",
              "        google.colab.kernel.accessAllowed ? 'block' : 'none';\n",
              "\n",
              "      async function convertToInteractive(key) {\n",
              "        const element = document.querySelector('#df-ca4b63b3-ed7f-4ef1-aa16-098402d7c809');\n",
              "        const dataTable =\n",
              "          await google.colab.kernel.invokeFunction('convertToInteractive',\n",
              "                                                    [key], {});\n",
              "        if (!dataTable) return;\n",
              "\n",
              "        const docLinkHtml = 'Like what you see? Visit the ' +\n",
              "          '<a target=\"_blank\" href=https://colab.research.google.com/notebooks/data_table.ipynb>data table notebook</a>'\n",
              "          + ' to learn more about interactive tables.';\n",
              "        element.innerHTML = '';\n",
              "        dataTable['output_type'] = 'display_data';\n",
              "        await google.colab.output.renderOutput(dataTable, element);\n",
              "        const docLink = document.createElement('div');\n",
              "        docLink.innerHTML = docLinkHtml;\n",
              "        element.appendChild(docLink);\n",
              "      }\n",
              "    </script>\n",
              "  </div>\n",
              "\n",
              "\n",
              "<div id=\"df-dbfbbfbb-eb35-4252-89ae-cd941d4a425e\">\n",
              "  <button class=\"colab-df-quickchart\" onclick=\"quickchart('df-dbfbbfbb-eb35-4252-89ae-cd941d4a425e')\"\n",
              "            title=\"Suggest charts\"\n",
              "            style=\"display:none;\">\n",
              "\n",
              "<svg xmlns=\"http://www.w3.org/2000/svg\" height=\"24px\"viewBox=\"0 0 24 24\"\n",
              "     width=\"24px\">\n",
              "    <g>\n",
              "        <path d=\"M19 3H5c-1.1 0-2 .9-2 2v14c0 1.1.9 2 2 2h14c1.1 0 2-.9 2-2V5c0-1.1-.9-2-2-2zM9 17H7v-7h2v7zm4 0h-2V7h2v10zm4 0h-2v-4h2v4z\"/>\n",
              "    </g>\n",
              "</svg>\n",
              "  </button>\n",
              "\n",
              "<style>\n",
              "  .colab-df-quickchart {\n",
              "      --bg-color: #E8F0FE;\n",
              "      --fill-color: #1967D2;\n",
              "      --hover-bg-color: #E2EBFA;\n",
              "      --hover-fill-color: #174EA6;\n",
              "      --disabled-fill-color: #AAA;\n",
              "      --disabled-bg-color: #DDD;\n",
              "  }\n",
              "\n",
              "  [theme=dark] .colab-df-quickchart {\n",
              "      --bg-color: #3B4455;\n",
              "      --fill-color: #D2E3FC;\n",
              "      --hover-bg-color: #434B5C;\n",
              "      --hover-fill-color: #FFFFFF;\n",
              "      --disabled-bg-color: #3B4455;\n",
              "      --disabled-fill-color: #666;\n",
              "  }\n",
              "\n",
              "  .colab-df-quickchart {\n",
              "    background-color: var(--bg-color);\n",
              "    border: none;\n",
              "    border-radius: 50%;\n",
              "    cursor: pointer;\n",
              "    display: none;\n",
              "    fill: var(--fill-color);\n",
              "    height: 32px;\n",
              "    padding: 0;\n",
              "    width: 32px;\n",
              "  }\n",
              "\n",
              "  .colab-df-quickchart:hover {\n",
              "    background-color: var(--hover-bg-color);\n",
              "    box-shadow: 0 1px 2px rgba(60, 64, 67, 0.3), 0 1px 3px 1px rgba(60, 64, 67, 0.15);\n",
              "    fill: var(--button-hover-fill-color);\n",
              "  }\n",
              "\n",
              "  .colab-df-quickchart-complete:disabled,\n",
              "  .colab-df-quickchart-complete:disabled:hover {\n",
              "    background-color: var(--disabled-bg-color);\n",
              "    fill: var(--disabled-fill-color);\n",
              "    box-shadow: none;\n",
              "  }\n",
              "\n",
              "  .colab-df-spinner {\n",
              "    border: 2px solid var(--fill-color);\n",
              "    border-color: transparent;\n",
              "    border-bottom-color: var(--fill-color);\n",
              "    animation:\n",
              "      spin 1s steps(1) infinite;\n",
              "  }\n",
              "\n",
              "  @keyframes spin {\n",
              "    0% {\n",
              "      border-color: transparent;\n",
              "      border-bottom-color: var(--fill-color);\n",
              "      border-left-color: var(--fill-color);\n",
              "    }\n",
              "    20% {\n",
              "      border-color: transparent;\n",
              "      border-left-color: var(--fill-color);\n",
              "      border-top-color: var(--fill-color);\n",
              "    }\n",
              "    30% {\n",
              "      border-color: transparent;\n",
              "      border-left-color: var(--fill-color);\n",
              "      border-top-color: var(--fill-color);\n",
              "      border-right-color: var(--fill-color);\n",
              "    }\n",
              "    40% {\n",
              "      border-color: transparent;\n",
              "      border-right-color: var(--fill-color);\n",
              "      border-top-color: var(--fill-color);\n",
              "    }\n",
              "    60% {\n",
              "      border-color: transparent;\n",
              "      border-right-color: var(--fill-color);\n",
              "    }\n",
              "    80% {\n",
              "      border-color: transparent;\n",
              "      border-right-color: var(--fill-color);\n",
              "      border-bottom-color: var(--fill-color);\n",
              "    }\n",
              "    90% {\n",
              "      border-color: transparent;\n",
              "      border-bottom-color: var(--fill-color);\n",
              "    }\n",
              "  }\n",
              "</style>\n",
              "\n",
              "  <script>\n",
              "    async function quickchart(key) {\n",
              "      const quickchartButtonEl =\n",
              "        document.querySelector('#' + key + ' button');\n",
              "      quickchartButtonEl.disabled = true;  // To prevent multiple clicks.\n",
              "      quickchartButtonEl.classList.add('colab-df-spinner');\n",
              "      try {\n",
              "        const charts = await google.colab.kernel.invokeFunction(\n",
              "            'suggestCharts', [key], {});\n",
              "      } catch (error) {\n",
              "        console.error('Error during call to suggestCharts:', error);\n",
              "      }\n",
              "      quickchartButtonEl.classList.remove('colab-df-spinner');\n",
              "      quickchartButtonEl.classList.add('colab-df-quickchart-complete');\n",
              "    }\n",
              "    (() => {\n",
              "      let quickchartButtonEl =\n",
              "        document.querySelector('#df-dbfbbfbb-eb35-4252-89ae-cd941d4a425e button');\n",
              "      quickchartButtonEl.style.display =\n",
              "        google.colab.kernel.accessAllowed ? 'block' : 'none';\n",
              "    })();\n",
              "  </script>\n",
              "</div>\n",
              "\n",
              "    </div>\n",
              "  </div>\n"
            ],
            "application/vnd.google.colaboratory.intrinsic+json": {
              "type": "dataframe",
              "summary": "{\n  \"name\": \"datasetV\",\n  \"rows\": 8,\n  \"fields\": [\n    {\n      \"column\": \"sepal.length\",\n      \"properties\": {\n        \"dtype\": \"number\",\n        \"std\": 51.24711349471842,\n        \"min\": 0.828066127977863,\n        \"max\": 150.0,\n        \"num_unique_values\": 8,\n        \"samples\": [\n          5.843333333333334,\n          5.8,\n          150.0\n        ],\n        \"semantic_type\": \"\",\n        \"description\": \"\"\n      }\n    },\n    {\n      \"column\": \"sepal.width\",\n      \"properties\": {\n        \"dtype\": \"number\",\n        \"std\": 52.08617800869865,\n        \"min\": 0.4358662849366982,\n        \"max\": 150.0,\n        \"num_unique_values\": 8,\n        \"samples\": [\n          3.0573333333333337,\n          3.0,\n          150.0\n        ],\n        \"semantic_type\": \"\",\n        \"description\": \"\"\n      }\n    },\n    {\n      \"column\": \"petal.length\",\n      \"properties\": {\n        \"dtype\": \"number\",\n        \"std\": 51.83521261418364,\n        \"min\": 1.0,\n        \"max\": 150.0,\n        \"num_unique_values\": 8,\n        \"samples\": [\n          3.7580000000000005,\n          4.35,\n          150.0\n        ],\n        \"semantic_type\": \"\",\n        \"description\": \"\"\n      }\n    },\n    {\n      \"column\": \"petal.width\",\n      \"properties\": {\n        \"dtype\": \"number\",\n        \"std\": 52.63664824261751,\n        \"min\": 0.1,\n        \"max\": 150.0,\n        \"num_unique_values\": 8,\n        \"samples\": [\n          1.1993333333333336,\n          1.3,\n          150.0\n        ],\n        \"semantic_type\": \"\",\n        \"description\": \"\"\n      }\n    }\n  ]\n}"
            }
          },
          "metadata": {},
          "execution_count": 7
        }
      ]
    },
    {
      "cell_type": "markdown",
      "source": [
        "As we can see scale of the features are large and PCA is sensetive to scale of data i.e. PCA uses variance, co-variance etc. so data with larger scale may dominate the principal components. So Data Standardization Should be done."
      ],
      "metadata": {
        "id": "JXVvxc70r4vP"
      }
    },
    {
      "cell_type": "markdown",
      "source": [
        "# Data Standardization"
      ],
      "metadata": {
        "id": "Vk2W-oSktKZH"
      }
    },
    {
      "cell_type": "markdown",
      "source": [
        "\n",
        "\n",
        "*   Function data_standard will take dataset and will return standardize data.\n",
        "*   Standardization of data will be done by first centralizing the data and then dividing it by standard deviation of the data to standardize it, now all features are on similar scale.\n",
        "\n",
        "\n",
        "\n",
        "\n"
      ],
      "metadata": {
        "id": "ShidN1pVOPo4"
      }
    },
    {
      "cell_type": "code",
      "source": [
        "def data_standard(data):\n",
        "  print(f\"Part of Data before Standardization:{data[:10,:]}\")\n",
        "  print(f\"Size of Data before standardization:{data.shape}\")\n",
        "  mean=np.mean(data)\n",
        "  print(f\"The Mean of Old Data:{mean:.2f}\")\n",
        "\n",
        "  standard_dev=np.std(data)\n",
        "  print(f\"The Standard Deviation of Old Data:{standard_dev:.2f}\")\n",
        "\n",
        "  standard_data  = (data - mean )/standard_dev\n",
        "\n",
        "  print(f\"Part of Data After Standardization:{standard_data[:10,:]}\")\n",
        "  print(f\"Size of Data After standardization:{standard_data.shape}\")\n",
        "  new_mean=np.mean(standard_data)\n",
        "  print(f\"Mean of Data After Standardization:{new_mean:.2f}\")\n",
        "\n",
        "  new_std=np.std(standard_data)\n",
        "  print(f\"Standard Deviation of Data After Standardization:{new_std:.2f}\")\n",
        "\n",
        "  return standard_data\n",
        "\n",
        "st_data=data_standard(dataI)"
      ],
      "metadata": {
        "colab": {
          "base_uri": "https://localhost:8080/"
        },
        "id": "oDp9zPUlr045",
        "outputId": "50431e82-e6d1-467d-ab59-8dbd5d5e5501"
      },
      "execution_count": null,
      "outputs": [
        {
          "output_type": "stream",
          "name": "stdout",
          "text": [
            "Part of Data before Standardization:[[5.1 3.5 1.4 0.2]\n",
            " [4.9 3.  1.4 0.2]\n",
            " [4.7 3.2 1.3 0.2]\n",
            " [4.6 3.1 1.5 0.2]\n",
            " [5.  3.6 1.4 0.2]\n",
            " [5.4 3.9 1.7 0.4]\n",
            " [4.6 3.4 1.4 0.3]\n",
            " [5.  3.4 1.5 0.2]\n",
            " [4.4 2.9 1.4 0.2]\n",
            " [4.9 3.1 1.5 0.1]]\n",
            "Size of Data before standardization:(150, 4)\n",
            "The Mean of Old Data:3.46\n",
            "The Standard Deviation of Old Data:1.97\n",
            "Part of Data After Standardization:[[ 0.82858665  0.01798522 -1.04592915 -1.65388022]\n",
            " [ 0.72726147 -0.23532773 -1.04592915 -1.65388022]\n",
            " [ 0.62593629 -0.13400255 -1.09659174 -1.65388022]\n",
            " [ 0.5752737  -0.18466514 -0.99526657 -1.65388022]\n",
            " [ 0.77792406  0.06864781 -1.04592915 -1.65388022]\n",
            " [ 0.98057441  0.22063558 -0.89394139 -1.55255505]\n",
            " [ 0.5752737  -0.03267737 -1.04592915 -1.60321764]\n",
            " [ 0.77792406 -0.03267737 -0.99526657 -1.65388022]\n",
            " [ 0.47394852 -0.28599032 -1.04592915 -1.65388022]\n",
            " [ 0.72726147 -0.18466514 -0.99526657 -1.70454281]]\n",
            "Size of Data After standardization:(150, 4)\n",
            "Mean of Data After Standardization:0.00\n",
            "Standard Deviation of Data After Standardization:1.00\n"
          ]
        }
      ]
    },
    {
      "cell_type": "markdown",
      "source": [
        "# **Question-1**"
      ],
      "metadata": {
        "id": "KcQoFPITO-NR"
      }
    },
    {
      "cell_type": "markdown",
      "source": [
        "# **PCA Function**\n",
        "\n",
        "\n",
        "\n",
        "*   Function PCA will take parameters i.e. Standardize Data and Variance to retain as input and will return reduced data, principal_components,sorted_eigenvalue.\n",
        "*  Standardize data will be passed to np.cov which will find covariance  matrix of the data.\n",
        "\n",
        "*   Eigen Values, Eigen Vectors will be passed to np.linalg.eigh which will return eigen values and vectors, which will be then reverse sorted.\n",
        "*   Based on Variance to retain it will give two eigen vectors and those will be our first n principal components.\n",
        "\n",
        "\n",
        "*   Then the retain eigen vector will be projected on the standardize data and that will be the reduced space.\n",
        "\n",
        "\n",
        "\n",
        "\n",
        "\n",
        "\n"
      ],
      "metadata": {
        "id": "F5VD1MpUR9FB"
      }
    },
    {
      "cell_type": "code",
      "source": [
        "\n",
        "def PCA(data,var_toretain):\n",
        "\n",
        "  cov_matrix = np.cov(data, rowvar=False)\n",
        "\n",
        "  print(f\"Covariance Matrix of the standardize data:{cov_matrix}\")\n",
        "  print(f\"Size of Covariance Matrix of the standardize data:{cov_matrix.shape}\")\n",
        "\n",
        "  eigen_val, eigen_vec=np.linalg.eigh(cov_matrix)\n",
        "  print(f\"Eigen Values of the Covariance Matrix:{eigen_val}\")\n",
        "  print(f\"Corresponding Eigen Vectors of the Covariance Matrix:{eigen_vec}\")\n",
        "\n",
        "  index = np.argsort(eigen_val)[::-1]\n",
        "  sorted_eigenval,sorted_eigenvec=eigen_val[index],eigen_vec[:,index]\n",
        "  print(f\"Eigen Values in Decreasing Order:{sorted_eigenval}\")\n",
        "  print(f\"Eigen Vectors in corresponding to decreasing eigen values:{sorted_eigenvec}\")\n",
        "  print(f\"Size of Eigen Vectors{sorted_eigenvec.shape}\")\n",
        "\n",
        "  variance_explained = np.cumsum(sorted_eigenval) / np.sum(sorted_eigenval)\n",
        "  num_components = np.argmax(variance_explained >= var_toretain) + 1\n",
        "\n",
        "  principal_components=sorted_eigenvec[:num_components]\n",
        "  print(f\"Principal components retained are:{principal_components}\")\n",
        "  print(f\"Size of Principal Components{principal_components.shape}\")\n",
        "\n",
        "  reduced_data=np.matmul(principal_components,data.T)\n",
        "  print(f\"Size of Reduced Data:{reduced_data.shape}\")\n",
        "\n",
        "  return reduced_data, principal_components, sorted_eigenval\n"
      ],
      "metadata": {
        "id": "PPYPy4W_yD_p"
      },
      "execution_count": null,
      "outputs": []
    },
    {
      "cell_type": "code",
      "source": [
        "DataReduced, pc1, eg2=PCA(st_data, .95)\n"
      ],
      "metadata": {
        "colab": {
          "base_uri": "https://localhost:8080/"
        },
        "id": "LOI2VhEz6Lh-",
        "outputId": "ca342eca-779b-4ac1-c9bb-af9c78d910af"
      },
      "execution_count": null,
      "outputs": [
        {
          "output_type": "stream",
          "name": "stdout",
          "text": [
            "Covariance Matrix of the standardize data:[[ 1.6382002  -0.26116567  0.50748465 -1.25982452]\n",
            " [-0.26116567  0.09159949 -0.11549161  0.20709426]\n",
            " [ 0.50748465 -0.11549161  0.8221129   0.1607577 ]\n",
            " [-1.25982452  0.20709426  0.1607577   1.47493306]]\n",
            "Size of Covariance Matrix of the standardize data:(4, 4)\n",
            "Eigen Values of the Covariance Matrix:[0.00749193 0.05459503 1.06841931 2.89633936]\n",
            "Corresponding Eigen Vectors of the Covariance Matrix:[[ 0.50053745 -0.38551326  0.24756737 -0.73454216]\n",
            " [-0.46192562 -0.87587355 -0.06728047  0.12224396]\n",
            " [-0.48546971  0.17205728  0.84631767 -0.13587442]\n",
            " [ 0.54809319 -0.23371211  0.46682988  0.65348479]]\n",
            "Eigen Values in Decreasing Order:[2.89633936 1.06841931 0.05459503 0.00749193]\n",
            "Eigen Vectors in corresponding to decreasing eigen values:[[-0.73454216  0.24756737 -0.38551326  0.50053745]\n",
            " [ 0.12224396 -0.06728047 -0.87587355 -0.46192562]\n",
            " [-0.13587442  0.84631767  0.17205728 -0.48546971]\n",
            " [ 0.65348479  0.46682988 -0.23371211  0.54809319]]\n",
            "Size of Eigen Vectors(4, 4)\n",
            "Principal components retained are:[[-0.73454216  0.24756737 -0.38551326  0.50053745]\n",
            " [ 0.12224396 -0.06728047 -0.87587355 -0.46192562]]\n",
            "Size of Principal Components(2, 4)\n",
            "Size of Reduced Data:(2, 150)\n"
          ]
        }
      ]
    },
    {
      "cell_type": "markdown",
      "source": [
        "Plotting the transformed Space using PC-1 and PC-2"
      ],
      "metadata": {
        "id": "fiWzpPrY96ry"
      }
    },
    {
      "cell_type": "code",
      "source": [
        "target=datasetV['variety']\n",
        "\n",
        "Transformed_data = np.vstack((DataReduced , target)).T\n",
        "\n",
        "\n",
        "df = pd.DataFrame(Transformed_data, columns=['PC1' , \"PC2\" , \"labels\"])\n",
        "\n",
        "sns.FacetGrid(data = df , hue=\"labels\" ).map(sns.scatterplot , \"PC1\" , \"PC2\")\n",
        "plt.legend()\n",
        "plt.show()"
      ],
      "metadata": {
        "id": "rDXnP_Kr6kMh",
        "colab": {
          "base_uri": "https://localhost:8080/",
          "height": 307
        },
        "outputId": "589f6dec-a3bc-4dc3-a683-24dad1f548a7"
      },
      "execution_count": null,
      "outputs": [
        {
          "output_type": "display_data",
          "data": {
            "text/plain": [
              "<Figure size 300x300 with 1 Axes>"
            ],
            "image/png": "[encoded data removed]"
          },
          "metadata": {}
        }
      ]
    },
    {
      "cell_type": "markdown",
      "source": [
        "# Question-2"
      ],
      "metadata": {
        "id": "xGmf0kwPufGN"
      }
    },
    {
      "cell_type": "markdown",
      "source": [
        "2(a)"
      ],
      "metadata": {
        "id": "UFfbyfUa_t9X"
      }
    },
    {
      "cell_type": "code",
      "source": [
        "#Slicing last two features from Iris dataset\n",
        "new_data=data[:,:-3]\n",
        "print(f\"Part of Iris Dataset with First 2 features:{new_data[:10,:]}\")\n"
      ],
      "metadata": {
        "id": "Kv-46OFOBIRw",
        "colab": {
          "base_uri": "https://localhost:8080/"
        },
        "outputId": "5001a5b2-7cb9-499b-8952-2f6ba21d3a86"
      },
      "execution_count": null,
      "outputs": [
        {
          "output_type": "stream",
          "name": "stdout",
          "text": [
            "Part of Iris Dataset with First 2 features:[[5.1 3.5]\n",
            " [4.9 3. ]\n",
            " [4.7 3.2]\n",
            " [4.6 3.1]\n",
            " [5.  3.6]\n",
            " [5.4 3.9]\n",
            " [4.6 3.4]\n",
            " [5.  3.4]\n",
            " [4.4 2.9]\n",
            " [4.9 3.1]]\n"
          ]
        }
      ]
    },
    {
      "cell_type": "markdown",
      "source": [
        "Passing the Sliced dataset to PCA function.\n",
        "\n",
        "\n",
        "*   First the dataset is passed to function data_standard which will standardize it.\n",
        "*   Then the standardize data will be passed to PCA function, which will retain the 1st two PC's.\n",
        "\n"
      ],
      "metadata": {
        "id": "nyaOgNgc_sQ2"
      }
    },
    {
      "cell_type": "code",
      "source": [
        "st1=data_standard(new_data)\n",
        "#Calling PCA function\n",
        "DataSetReduced, pri_comp, sorted_eigenVal=PCA(st1,.95)\n",
        "\n"
      ],
      "metadata": {
        "colab": {
          "base_uri": "https://localhost:8080/"
        },
        "id": "N-lDuvl93342",
        "outputId": "19fa0034-1e7c-479c-df86-b71e9de33c34"
      },
      "execution_count": null,
      "outputs": [
        {
          "output_type": "stream",
          "name": "stdout",
          "text": [
            "Part of Data before Standardization:[[5.1 3.5]\n",
            " [4.9 3. ]\n",
            " [4.7 3.2]\n",
            " [4.6 3.1]\n",
            " [5.  3.6]\n",
            " [5.4 3.9]\n",
            " [4.6 3.4]\n",
            " [5.  3.4]\n",
            " [4.4 2.9]\n",
            " [4.9 3.1]]\n",
            "Size of Data before standardization:(150, 2)\n",
            "The Mean of Old Data:4.45\n",
            "The Standard Deviation of Old Data:1.54\n",
            "Part of Data After Standardization:[[ 0.42152687 -0.61661011]\n",
            " [ 0.29175975 -0.94102792]\n",
            " [ 0.16199263 -0.8112608 ]\n",
            " [ 0.09710906 -0.87614436]\n",
            " [ 0.35664331 -0.55172655]\n",
            " [ 0.61617756 -0.35707587]\n",
            " [ 0.09710906 -0.68149368]\n",
            " [ 0.35664331 -0.68149368]\n",
            " [-0.03265806 -1.00591148]\n",
            " [ 0.29175975 -0.87614436]]\n",
            "Size of Data After standardization:(150, 2)\n",
            "Mean of Data After Standardization:-0.00\n",
            "Standard Deviation of Data After Standardization:1.00\n",
            "Covariance Matrix of the standardize data:[[ 0.2886685  -0.01786419]\n",
            " [-0.01786419  0.07997899]]\n",
            "Size of Covariance Matrix of the standardize data:(2, 2)\n",
            "Eigen Values of the Covariance Matrix:[0.07846083 0.29018667]\n",
            "Corresponding Eigen Vectors of the Covariance Matrix:[[-0.08467831 -0.99640834]\n",
            " [-0.99640834  0.08467831]]\n",
            "Eigen Values in Decreasing Order:[0.29018667 0.07846083]\n",
            "Eigen Vectors in corresponding to decreasing eigen values:[[-0.99640834 -0.08467831]\n",
            " [ 0.08467831 -0.99640834]]\n",
            "Size of Eigen Vectors(2, 2)\n",
            "Principal components retained are:[[-0.99640834 -0.08467831]\n",
            " [ 0.08467831 -0.99640834]]\n",
            "Size of Principal Components(2, 2)\n",
            "Size of Reduced Data:(2, 150)\n"
          ]
        }
      ]
    },
    {
      "cell_type": "markdown",
      "source": [
        "# Question-2(b)"
      ],
      "metadata": {
        "id": "a4v5KsZ7BOYC"
      }
    },
    {
      "cell_type": "markdown",
      "source": [
        "Plotting the data in the original Space."
      ],
      "metadata": {
        "id": "Zj_inoCaBlpS"
      }
    },
    {
      "cell_type": "code",
      "source": [
        "plt.figure(figsize=(16, 6))\n",
        "plt.subplot(1, 3, 1)\n",
        "plt.scatter(data[:, 0], data[:, 1], c='blue', label='Original Data')\n",
        "plt.title('Original Data')\n",
        "plt.xlabel('Sepal Length')\n",
        "plt.ylabel('Sepal Width')\n",
        "plt.legend()"
      ],
      "metadata": {
        "colab": {
          "base_uri": "https://localhost:8080/",
          "height": 581
        },
        "id": "sZDHNIn9CqTy",
        "outputId": "4901e21c-77f3-4e86-f29e-c7aa53f70cd7"
      },
      "execution_count": null,
      "outputs": [
        {
          "output_type": "execute_result",
          "data": {
            "text/plain": [
              "<matplotlib.legend.Legend at 0x79eb873ff070>"
            ]
          },
          "metadata": {},
          "execution_count": 30
        },
        {
          "output_type": "display_data",
          "data": {
            "text/plain": [
              "<Figure size 1600x600 with 1 Axes>"
            ],
            "image/png": "[encoded data removed]"
          },
          "metadata": {}
        }
      ]
    },
    {
      "cell_type": "markdown",
      "source": [
        "Plotting the first two PC's in the original Space."
      ],
      "metadata": {
        "id": "tca5WD7yB2ts"
      }
    },
    {
      "cell_type": "code",
      "source": [
        "plt.figure(figsize=(14, 8))\n",
        "plt.subplot(1, 3, 1)\n",
        "plt.scatter(data[:, 0], data[:, 1], c='blue', label='Original Data')\n",
        "mean = np.mean(data, axis=0)\n",
        "\n",
        "origin = mean[:2]  # Origin is the mean of the data for the first 2 features\n",
        "pc1 = pri_comp[:, 0] * np.sqrt(sorted_eigenVal[0])\n",
        "pc2 = pri_comp[:, 1] * np.sqrt(sorted_eigenVal[1])\n",
        "\n",
        "plt.quiver(origin[0], origin[1], pc1[0], pc1[1], color='r', scale=2, label=\"PC1\", width=0.005)\n",
        "plt.quiver(origin[0], origin[1], -pc1[0], -pc1[1], color='r', scale=2, label=\"\", width=0.005)\n",
        "plt.quiver(origin[0], origin[1], pc2[0], pc2[1], color='g', scale=2, label=\"\", width=0.005)\n",
        "plt.quiver(origin[0], origin[1], -pc2[0], -pc2[1], color='g', scale=2, label=\"PC2 \", width=0.005)\n",
        "\n",
        "plt.title('Principal Components')\n",
        "plt.xlabel('PC1')\n",
        "plt.ylabel('PC2')\n",
        "plt.axhline(0, color='black',linewidth=0.5)\n",
        "plt.axvline(0, color='black',linewidth=0.5)\n",
        "plt.grid(color = 'gray', linestyle = '--', linewidth = 0.5)\n",
        "plt.legend(loc='upper left', bbox_to_anchor=(1, 1), fontsize='small')\n",
        "plt.show()"
      ],
      "metadata": {
        "colab": {
          "base_uri": "https://localhost:8080/",
          "height": 718
        },
        "id": "Go8yGw2aDi8X",
        "outputId": "a8f00957-7d5b-4f88-9d1e-0d978507627b"
      },
      "execution_count": null,
      "outputs": [
        {
          "output_type": "display_data",
          "data": {
            "text/plain": [
              "<Figure size 1400x800 with 1 Axes>"
            ],
            "image/png": "[encoded data removed]"
          },
          "metadata": {}
        }
      ]
    },
    {
      "cell_type": "markdown",
      "source": [
        "Plotting the data in transformed space with the first 2 PC's."
      ],
      "metadata": {
        "id": "4orh6TWPCGmI"
      }
    },
    {
      "cell_type": "code",
      "source": [
        "#Adding the Label Columns to the transformed data\n",
        "Transformed_data1 = np.vstack((DataSetReduced, target)).T\n",
        "\n",
        "df = pd.DataFrame(Transformed_data1, columns=['PC1' , \"PC2\" , \"labels\"])\n",
        "\n",
        "sns.FacetGrid(data = df , hue=\"labels\" ).map(sns.scatterplot , \"PC1\" , \"PC2\")\n",
        "plt.legend(loc='upper left', bbox_to_anchor=(1, 1), fontsize='small')\n",
        "plt.show()"
      ],
      "metadata": {
        "colab": {
          "base_uri": "https://localhost:8080/",
          "height": 307
        },
        "id": "oVGH2NMEAwFX",
        "outputId": "ea97b65e-4333-4b0c-e270-379ddb0db461"
      },
      "execution_count": null,
      "outputs": [
        {
          "output_type": "display_data",
          "data": {
            "text/plain": [
              "<Figure size 300x300 with 1 Axes>"
            ],
            "image/png": "[encoded data removed]"
          },
          "metadata": {}
        }
      ]
    },
    {
      "cell_type": "markdown",
      "source": [
        "# Question-3"
      ],
      "metadata": {
        "id": "6adfaaoihbbd"
      }
    },
    {
      "cell_type": "markdown",
      "source": [
        "Question-3(a)"
      ],
      "metadata": {
        "id": "NhygWu9LDMvz"
      }
    },
    {
      "cell_type": "markdown",
      "source": [
        "\n",
        "\n",
        "*   The function percentage_var will be take Sorted Eigen Values as input and will return percentage of variance captured.\n",
        "*   Percentage variance is calculated by Ratio of Eigen Value to total Variance.\n",
        "\n"
      ],
      "metadata": {
        "id": "h3LO4hA7DhkD"
      }
    },
    {
      "cell_type": "code",
      "source": [
        "def percentage_var(EigenVal):\n",
        "  percentage_variance=(EigenVal/(np.sum(EigenVal)))*100\n",
        "  print(f\"Percentage Variance Captured by the PC's are:{percentage_variance}\")\n",
        "  return percentage_variance\n",
        "#Calling the function percentage_var\n",
        "percentage_variance=percentage_var(sorted_eigenVal)\n"
      ],
      "metadata": {
        "colab": {
          "base_uri": "https://localhost:8080/"
        },
        "id": "JKSbPx0NhfRT",
        "outputId": "8ab88e42-dd44-47b9-91c9-3311b578cbbf"
      },
      "execution_count": null,
      "outputs": [
        {
          "output_type": "stream",
          "name": "stdout",
          "text": [
            "Percentage Variance Captured by the PC's are:[78.71657099 21.28342901]\n"
          ]
        }
      ]
    },
    {
      "cell_type": "markdown",
      "source": [
        "Question-3(b)"
      ],
      "metadata": {
        "id": "jiV-C64qGIp7"
      }
    },
    {
      "cell_type": "markdown",
      "source": [
        "\n",
        "\n",
        "*   The Function MSE will take Sorted Eigen Values and Data as input and will return the minimum Squared Error\n",
        "\n",
        "\n",
        "*   The minimum Squared error calculated here is when only retaining the 1st PC.\n",
        "\n",
        "\n",
        "*   Minimimum Squared Error is calculated here by the formula:\n",
        "MSE=1/n(i=1 to n∑​λi​−λ1​)\n",
        "\n"
      ],
      "metadata": {
        "id": "5p3MNXefFEyx"
      }
    },
    {
      "cell_type": "code",
      "source": [
        "def MSE(EigenVal, data):\n",
        "    minmsqu_error=(np.sum(EigenVal)-EigenVal[0])/data.shape[0]\n",
        "    print(f\"Minimum Squared Error when only retaining the 1st PC is:{minmsqu_error:.4f}\")\n",
        "    return minmsqu_error\n",
        "#Calling the function MSE\n",
        "minimum_squared_error=MSE(sorted_eigenVal, new_data)"
      ],
      "metadata": {
        "colab": {
          "base_uri": "https://localhost:8080/"
        },
        "id": "twHR8buGnV6u",
        "outputId": "a9a722e6-55f3-44cb-c46d-73cc41b8d995"
      },
      "execution_count": null,
      "outputs": [
        {
          "output_type": "stream",
          "name": "stdout",
          "text": [
            "Minimum Squared Error when only retaining the 1st PC is:0.0005\n"
          ]
        }
      ]
    }
  ]
}