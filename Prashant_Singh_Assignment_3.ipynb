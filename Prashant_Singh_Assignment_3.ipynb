{
  "nbformat": 4,
  "nbformat_minor": 0,
  "metadata": {
    "colab": {
      "provenance": []
    },
    "kernelspec": {
      "name": "python3",
      "display_name": "Python 3"
    },
    "language_info": {
      "name": "python"
    }
  },
  "cells": [
    {
      "cell_type": "markdown",
      "source": [
        "**Name: Prashant Singh**\n",
        "\n",
        "**Enrollnment Number: SAU/CS/Mtech/(CS)/2024/04**\n",
        "\n",
        "**Assignment-3**\n",
        "\n",
        "**Questions**\n",
        "\n",
        "**Question 1**:\n",
        "\n",
        "Implement Linear Discriminant Analysis as a function. The function\n",
        "should take data points as inputs and should return the data in the\n",
        "reduced space.\n",
        "\n",
        "**Question 2**:\n",
        "\n",
        "In the Iris dataset, choose the first 2 features, i.e. sepal length and\n",
        "sepal width.\n",
        "\n",
        "a) Run your code on this Iris dataset and obtain the linear discriminant.\n",
        "\n",
        "b) Plot the linear discriminant in the original space. Further, show the\n",
        "transformed data.\n",
        "c) Find the distance between the projected means of the two classes.\n",
        "\n",
        "\n",
        "**Question 3**:\n",
        "\n",
        "Generate a binary dataset (200 samples in each class ) with mean [2,2],\n",
        "[6,-2] and covariance matrix being [1, 1.5; 1.5, 3] respectively.\n",
        "\n",
        "\n",
        "a) Perform dimension reduction using PCA and obtain the transformed\n",
        "data using only the first PC.\n",
        "\n",
        "\n",
        "b) Perform Dimension reduction using LDA and obtain the transformed\n",
        "data using the linear discriminant.\n",
        "\n",
        "\n",
        "c) Compare the accuracy of classification on the original, PCA and\n",
        "LDA-transformed datasets ( For this task you can use any inbuilt su-\n",
        "pervised classifier ). Briefly explain your observations from empirical\n",
        "analysis of the classification accuracies in the aforementioned cases."
      ],
      "metadata": {
        "id": "VqQaFVNAvuS5"
      }
    },
    {
      "cell_type": "markdown",
      "source": [
        "# **Data Loading**"
      ],
      "metadata": {
        "id": "a4cxA2Umwk08"
      }
    },
    {
      "cell_type": "code",
      "source": [
        "!wget https://gist.githubusercontent.com/netj/8836201/raw/iris.csv"
      ],
      "metadata": {
        "colab": {
          "base_uri": "https://localhost:8080/"
        },
        "id": "oTdNB02KiqDU",
        "outputId": "7b086f8c-40d4-46eb-c01c-d3f35caae8b9"
      },
      "execution_count": null,
      "outputs": [
        {
          "output_type": "stream",
          "name": "stdout",
          "text": [
            "--2024-09-19 09:48:13--  https://gist.githubusercontent.com/netj/8836201/raw/iris.csv\n",
            "Resolving gist.githubusercontent.com (gist.githubusercontent.com)... 185.199.111.133, 185.199.109.133, 185.199.108.133, ...\n",
            "Connecting to gist.githubusercontent.com (gist.githubusercontent.com)|185.199.111.133|:443... connected.\n",
            "HTTP request sent, awaiting response... 200 OK\n",
            "Length: 3975 (3.9K) [text/plain]\n",
            "Saving to: ‘iris.csv’\n",
            "\n",
            "\riris.csv              0%[                    ]       0  --.-KB/s               \riris.csv            100%[===================>]   3.88K  --.-KB/s    in 0s      \n",
            "\n",
            "2024-09-19 09:48:13 (54.5 MB/s) - ‘iris.csv’ saved [3975/3975]\n",
            "\n"
          ]
        }
      ]
    },
    {
      "cell_type": "code",
      "source": [
        "import numpy as np\n",
        "import pandas as pd\n",
        "import matplotlib.pyplot as plt\n",
        "import seaborn as sns\n",
        "\n",
        "df=pd.read_csv('iris.csv')\n",
        "df"
      ],
      "metadata": {
        "colab": {
          "base_uri": "https://localhost:8080/",
          "height": 423
        },
        "id": "m665ELF7gWUb",
        "outputId": "c130f972-03b7-44f5-f606-68f16186af8e"
      },
      "execution_count": null,
      "outputs": [
        {
          "output_type": "execute_result",
          "data": {
            "text/plain": [
              "     sepal.length  sepal.width  petal.length  petal.width    variety\n",
              "0             5.1          3.5           1.4          0.2     Setosa\n",
              "1             4.9          3.0           1.4          0.2     Setosa\n",
              "2             4.7          3.2           1.3          0.2     Setosa\n",
              "3             4.6          3.1           1.5          0.2     Setosa\n",
              "4             5.0          3.6           1.4          0.2     Setosa\n",
              "..            ...          ...           ...          ...        ...\n",
              "145           6.7          3.0           5.2          2.3  Virginica\n",
              "146           6.3          2.5           5.0          1.9  Virginica\n",
              "147           6.5          3.0           5.2          2.0  Virginica\n",
              "148           6.2          3.4           5.4          2.3  Virginica\n",
              "149           5.9          3.0           5.1          1.8  Virginica\n",
              "\n",
              "[150 rows x 5 columns]"
            ],
            "text/html": [
              "\n",
              "  <div id=\"df-d0053bff-e356-4bbc-9f3f-dbe3f34e4476\" class=\"colab-df-container\">\n",
              "    <div>\n",
              "<style scoped>\n",
              "    .dataframe tbody tr th:only-of-type {\n",
              "        vertical-align: middle;\n",
              "    }\n",
              "\n",
              "    .dataframe tbody tr th {\n",
              "        vertical-align: top;\n",
              "    }\n",
              "\n",
              "    .dataframe thead th {\n",
              "        text-align: right;\n",
              "    }\n",
              "</style>\n",
              "<table border=\"1\" class=\"dataframe\">\n",
              "  <thead>\n",
              "    <tr style=\"text-align: right;\">\n",
              "      <th></th>\n",
              "      <th>sepal.length</th>\n",
              "      <th>sepal.width</th>\n",
              "      <th>petal.length</th>\n",
              "      <th>petal.width</th>\n",
              "      <th>variety</th>\n",
              "    </tr>\n",
              "  </thead>\n",
              "  <tbody>\n",
              "    <tr>\n",
              "      <th>0</th>\n",
              "      <td>5.1</td>\n",
              "      <td>3.5</td>\n",
              "      <td>1.4</td>\n",
              "      <td>0.2</td>\n",
              "      <td>Setosa</td>\n",
              "    </tr>\n",
              "    <tr>\n",
              "      <th>1</th>\n",
              "      <td>4.9</td>\n",
              "      <td>3.0</td>\n",
              "      <td>1.4</td>\n",
              "      <td>0.2</td>\n",
              "      <td>Setosa</td>\n",
              "    </tr>\n",
              "    <tr>\n",
              "      <th>2</th>\n",
              "      <td>4.7</td>\n",
              "      <td>3.2</td>\n",
              "      <td>1.3</td>\n",
              "      <td>0.2</td>\n",
              "      <td>Setosa</td>\n",
              "    </tr>\n",
              "    <tr>\n",
              "      <th>3</th>\n",
              "      <td>4.6</td>\n",
              "      <td>3.1</td>\n",
              "      <td>1.5</td>\n",
              "      <td>0.2</td>\n",
              "      <td>Setosa</td>\n",
              "    </tr>\n",
              "    <tr>\n",
              "      <th>4</th>\n",
              "      <td>5.0</td>\n",
              "      <td>3.6</td>\n",
              "      <td>1.4</td>\n",
              "      <td>0.2</td>\n",
              "      <td>Setosa</td>\n",
              "    </tr>\n",
              "    <tr>\n",
              "      <th>...</th>\n",
              "      <td>...</td>\n",
              "      <td>...</td>\n",
              "      <td>...</td>\n",
              "      <td>...</td>\n",
              "      <td>...</td>\n",
              "    </tr>\n",
              "    <tr>\n",
              "      <th>145</th>\n",
              "      <td>6.7</td>\n",
              "      <td>3.0</td>\n",
              "      <td>5.2</td>\n",
              "      <td>2.3</td>\n",
              "      <td>Virginica</td>\n",
              "    </tr>\n",
              "    <tr>\n",
              "      <th>146</th>\n",
              "      <td>6.3</td>\n",
              "      <td>2.5</td>\n",
              "      <td>5.0</td>\n",
              "      <td>1.9</td>\n",
              "      <td>Virginica</td>\n",
              "    </tr>\n",
              "    <tr>\n",
              "      <th>147</th>\n",
              "      <td>6.5</td>\n",
              "      <td>3.0</td>\n",
              "      <td>5.2</td>\n",
              "      <td>2.0</td>\n",
              "      <td>Virginica</td>\n",
              "    </tr>\n",
              "    <tr>\n",
              "      <th>148</th>\n",
              "      <td>6.2</td>\n",
              "      <td>3.4</td>\n",
              "      <td>5.4</td>\n",
              "      <td>2.3</td>\n",
              "      <td>Virginica</td>\n",
              "    </tr>\n",
              "    <tr>\n",
              "      <th>149</th>\n",
              "      <td>5.9</td>\n",
              "      <td>3.0</td>\n",
              "      <td>5.1</td>\n",
              "      <td>1.8</td>\n",
              "      <td>Virginica</td>\n",
              "    </tr>\n",
              "  </tbody>\n",
              "</table>\n",
              "<p>150 rows × 5 columns</p>\n",
              "</div>\n",
              "    <div class=\"colab-df-buttons\">\n",
              "\n",
              "  <div class=\"colab-df-container\">\n",
              "    <button class=\"colab-df-convert\" onclick=\"convertToInteractive('df-d0053bff-e356-4bbc-9f3f-dbe3f34e4476')\"\n",
              "            title=\"Convert this dataframe to an interactive table.\"\n",
              "            style=\"display:none;\">\n",
              "\n",
              "  <svg xmlns=\"http://www.w3.org/2000/svg\" height=\"24px\" viewBox=\"0 -960 960 960\">\n",
              "    <path d=\"M120-120v-720h720v720H120Zm60-500h600v-160H180v160Zm220 220h160v-160H400v160Zm0 220h160v-160H400v160ZM180-400h160v-160H180v160Zm440 0h160v-160H620v160ZM180-180h160v-160H180v160Zm440 0h160v-160H620v160Z\"/>\n",
              "  </svg>\n",
              "    </button>\n",
              "\n",
              "  <style>\n",
              "    .colab-df-container {\n",
              "      display:flex;\n",
              "      gap: 12px;\n",
              "    }\n",
              "\n",
              "    .colab-df-convert {\n",
              "      background-color: #E8F0FE;\n",
              "      border: none;\n",
              "      border-radius: 50%;\n",
              "      cursor: pointer;\n",
              "      display: none;\n",
              "      fill: #1967D2;\n",
              "      height: 32px;\n",
              "      padding: 0 0 0 0;\n",
              "      width: 32px;\n",
              "    }\n",
              "\n",
              "    .colab-df-convert:hover {\n",
              "      background-color: #E2EBFA;\n",
              "      box-shadow: 0px 1px 2px rgba(60, 64, 67, 0.3), 0px 1px 3px 1px rgba(60, 64, 67, 0.15);\n",
              "      fill: #174EA6;\n",
              "    }\n",
              "\n",
              "    .colab-df-buttons div {\n",
              "      margin-bottom: 4px;\n",
              "    }\n",
              "\n",
              "    [theme=dark] .colab-df-convert {\n",
              "      background-color: #3B4455;\n",
              "      fill: #D2E3FC;\n",
              "    }\n",
              "\n",
              "    [theme=dark] .colab-df-convert:hover {\n",
              "      background-color: #434B5C;\n",
              "      box-shadow: 0px 1px 3px 1px rgba(0, 0, 0, 0.15);\n",
              "      filter: drop-shadow(0px 1px 2px rgba(0, 0, 0, 0.3));\n",
              "      fill: #FFFFFF;\n",
              "    }\n",
              "  </style>\n",
              "\n",
              "    <script>\n",
              "      const buttonEl =\n",
              "        document.querySelector('#df-d0053bff-e356-4bbc-9f3f-dbe3f34e4476 button.colab-df-convert');\n",
              "      buttonEl.style.display =\n",
              "        google.colab.kernel.accessAllowed ? 'block' : 'none';\n",
              "\n",
              "      async function convertToInteractive(key) {\n",
              "        const element = document.querySelector('#df-d0053bff-e356-4bbc-9f3f-dbe3f34e4476');\n",
              "        const dataTable =\n",
              "          await google.colab.kernel.invokeFunction('convertToInteractive',\n",
              "                                                    [key], {});\n",
              "        if (!dataTable) return;\n",
              "\n",
              "        const docLinkHtml = 'Like what you see? Visit the ' +\n",
              "          '<a target=\"_blank\" href=https://colab.research.google.com/notebooks/data_table.ipynb>data table notebook</a>'\n",
              "          + ' to learn more about interactive tables.';\n",
              "        element.innerHTML = '';\n",
              "        dataTable['output_type'] = 'display_data';\n",
              "        await google.colab.output.renderOutput(dataTable, element);\n",
              "        const docLink = document.createElement('div');\n",
              "        docLink.innerHTML = docLinkHtml;\n",
              "        element.appendChild(docLink);\n",
              "      }\n",
              "    </script>\n",
              "  </div>\n",
              "\n",
              "\n",
              "<div id=\"df-391ac4e6-36c2-4cee-af77-6beea7286b71\">\n",
              "  <button class=\"colab-df-quickchart\" onclick=\"quickchart('df-391ac4e6-36c2-4cee-af77-6beea7286b71')\"\n",
              "            title=\"Suggest charts\"\n",
              "            style=\"display:none;\">\n",
              "\n",
              "<svg xmlns=\"http://www.w3.org/2000/svg\" height=\"24px\"viewBox=\"0 0 24 24\"\n",
              "     width=\"24px\">\n",
              "    <g>\n",
              "        <path d=\"M19 3H5c-1.1 0-2 .9-2 2v14c0 1.1.9 2 2 2h14c1.1 0 2-.9 2-2V5c0-1.1-.9-2-2-2zM9 17H7v-7h2v7zm4 0h-2V7h2v10zm4 0h-2v-4h2v4z\"/>\n",
              "    </g>\n",
              "</svg>\n",
              "  </button>\n",
              "\n",
              "<style>\n",
              "  .colab-df-quickchart {\n",
              "      --bg-color: #E8F0FE;\n",
              "      --fill-color: #1967D2;\n",
              "      --hover-bg-color: #E2EBFA;\n",
              "      --hover-fill-color: #174EA6;\n",
              "      --disabled-fill-color: #AAA;\n",
              "      --disabled-bg-color: #DDD;\n",
              "  }\n",
              "\n",
              "  [theme=dark] .colab-df-quickchart {\n",
              "      --bg-color: #3B4455;\n",
              "      --fill-color: #D2E3FC;\n",
              "      --hover-bg-color: #434B5C;\n",
              "      --hover-fill-color: #FFFFFF;\n",
              "      --disabled-bg-color: #3B4455;\n",
              "      --disabled-fill-color: #666;\n",
              "  }\n",
              "\n",
              "  .colab-df-quickchart {\n",
              "    background-color: var(--bg-color);\n",
              "    border: none;\n",
              "    border-radius: 50%;\n",
              "    cursor: pointer;\n",
              "    display: none;\n",
              "    fill: var(--fill-color);\n",
              "    height: 32px;\n",
              "    padding: 0;\n",
              "    width: 32px;\n",
              "  }\n",
              "\n",
              "  .colab-df-quickchart:hover {\n",
              "    background-color: var(--hover-bg-color);\n",
              "    box-shadow: 0 1px 2px rgba(60, 64, 67, 0.3), 0 1px 3px 1px rgba(60, 64, 67, 0.15);\n",
              "    fill: var(--button-hover-fill-color);\n",
              "  }\n",
              "\n",
              "  .colab-df-quickchart-complete:disabled,\n",
              "  .colab-df-quickchart-complete:disabled:hover {\n",
              "    background-color: var(--disabled-bg-color);\n",
              "    fill: var(--disabled-fill-color);\n",
              "    box-shadow: none;\n",
              "  }\n",
              "\n",
              "  .colab-df-spinner {\n",
              "    border: 2px solid var(--fill-color);\n",
              "    border-color: transparent;\n",
              "    border-bottom-color: var(--fill-color);\n",
              "    animation:\n",
              "      spin 1s steps(1) infinite;\n",
              "  }\n",
              "\n",
              "  @keyframes spin {\n",
              "    0% {\n",
              "      border-color: transparent;\n",
              "      border-bottom-color: var(--fill-color);\n",
              "      border-left-color: var(--fill-color);\n",
              "    }\n",
              "    20% {\n",
              "      border-color: transparent;\n",
              "      border-left-color: var(--fill-color);\n",
              "      border-top-color: var(--fill-color);\n",
              "    }\n",
              "    30% {\n",
              "      border-color: transparent;\n",
              "      border-left-color: var(--fill-color);\n",
              "      border-top-color: var(--fill-color);\n",
              "      border-right-color: var(--fill-color);\n",
              "    }\n",
              "    40% {\n",
              "      border-color: transparent;\n",
              "      border-right-color: var(--fill-color);\n",
              "      border-top-color: var(--fill-color);\n",
              "    }\n",
              "    60% {\n",
              "      border-color: transparent;\n",
              "      border-right-color: var(--fill-color);\n",
              "    }\n",
              "    80% {\n",
              "      border-color: transparent;\n",
              "      border-right-color: var(--fill-color);\n",
              "      border-bottom-color: var(--fill-color);\n",
              "    }\n",
              "    90% {\n",
              "      border-color: transparent;\n",
              "      border-bottom-color: var(--fill-color);\n",
              "    }\n",
              "  }\n",
              "</style>\n",
              "\n",
              "  <script>\n",
              "    async function quickchart(key) {\n",
              "      const quickchartButtonEl =\n",
              "        document.querySelector('#' + key + ' button');\n",
              "      quickchartButtonEl.disabled = true;  // To prevent multiple clicks.\n",
              "      quickchartButtonEl.classList.add('colab-df-spinner');\n",
              "      try {\n",
              "        const charts = await google.colab.kernel.invokeFunction(\n",
              "            'suggestCharts', [key], {});\n",
              "      } catch (error) {\n",
              "        console.error('Error during call to suggestCharts:', error);\n",
              "      }\n",
              "      quickchartButtonEl.classList.remove('colab-df-spinner');\n",
              "      quickchartButtonEl.classList.add('colab-df-quickchart-complete');\n",
              "    }\n",
              "    (() => {\n",
              "      let quickchartButtonEl =\n",
              "        document.querySelector('#df-391ac4e6-36c2-4cee-af77-6beea7286b71 button');\n",
              "      quickchartButtonEl.style.display =\n",
              "        google.colab.kernel.accessAllowed ? 'block' : 'none';\n",
              "    })();\n",
              "  </script>\n",
              "</div>\n",
              "\n",
              "  <div id=\"id_c86a0834-b450-4fc7-834f-20d79fcaf0e1\">\n",
              "    <style>\n",
              "      .colab-df-generate {\n",
              "        background-color: #E8F0FE;\n",
              "        border: none;\n",
              "        border-radius: 50%;\n",
              "        cursor: pointer;\n",
              "        display: none;\n",
              "        fill: #1967D2;\n",
              "        height: 32px;\n",
              "        padding: 0 0 0 0;\n",
              "        width: 32px;\n",
              "      }\n",
              "\n",
              "      .colab-df-generate:hover {\n",
              "        background-color: #E2EBFA;\n",
              "        box-shadow: 0px 1px 2px rgba(60, 64, 67, 0.3), 0px 1px 3px 1px rgba(60, 64, 67, 0.15);\n",
              "        fill: #174EA6;\n",
              "      }\n",
              "\n",
              "      [theme=dark] .colab-df-generate {\n",
              "        background-color: #3B4455;\n",
              "        fill: #D2E3FC;\n",
              "      }\n",
              "\n",
              "      [theme=dark] .colab-df-generate:hover {\n",
              "        background-color: #434B5C;\n",
              "        box-shadow: 0px 1px 3px 1px rgba(0, 0, 0, 0.15);\n",
              "        filter: drop-shadow(0px 1px 2px rgba(0, 0, 0, 0.3));\n",
              "        fill: #FFFFFF;\n",
              "      }\n",
              "    </style>\n",
              "    <button class=\"colab-df-generate\" onclick=\"generateWithVariable('df')\"\n",
              "            title=\"Generate code using this dataframe.\"\n",
              "            style=\"display:none;\">\n",
              "\n",
              "  <svg xmlns=\"http://www.w3.org/2000/svg\" height=\"24px\"viewBox=\"0 0 24 24\"\n",
              "       width=\"24px\">\n",
              "    <path d=\"M7,19H8.4L18.45,9,17,7.55,7,17.6ZM5,21V16.75L18.45,3.32a2,2,0,0,1,2.83,0l1.4,1.43a1.91,1.91,0,0,1,.58,1.4,1.91,1.91,0,0,1-.58,1.4L9.25,21ZM18.45,9,17,7.55Zm-12,3A5.31,5.31,0,0,0,4.9,8.1,5.31,5.31,0,0,0,1,6.5,5.31,5.31,0,0,0,4.9,4.9,5.31,5.31,0,0,0,6.5,1,5.31,5.31,0,0,0,8.1,4.9,5.31,5.31,0,0,0,12,6.5,5.46,5.46,0,0,0,6.5,12Z\"/>\n",
              "  </svg>\n",
              "    </button>\n",
              "    <script>\n",
              "      (() => {\n",
              "      const buttonEl =\n",
              "        document.querySelector('#id_c86a0834-b450-4fc7-834f-20d79fcaf0e1 button.colab-df-generate');\n",
              "      buttonEl.style.display =\n",
              "        google.colab.kernel.accessAllowed ? 'block' : 'none';\n",
              "\n",
              "      buttonEl.onclick = () => {\n",
              "        google.colab.notebook.generateWithVariable('df');\n",
              "      }\n",
              "      })();\n",
              "    </script>\n",
              "  </div>\n",
              "\n",
              "    </div>\n",
              "  </div>\n"
            ],
            "application/vnd.google.colaboratory.intrinsic+json": {
              "type": "dataframe",
              "variable_name": "df",
              "summary": "{\n  \"name\": \"df\",\n  \"rows\": 150,\n  \"fields\": [\n    {\n      \"column\": \"sepal.length\",\n      \"properties\": {\n        \"dtype\": \"number\",\n        \"std\": 0.828066127977863,\n        \"min\": 4.3,\n        \"max\": 7.9,\n        \"num_unique_values\": 35,\n        \"samples\": [\n          6.2,\n          4.5,\n          5.6\n        ],\n        \"semantic_type\": \"\",\n        \"description\": \"\"\n      }\n    },\n    {\n      \"column\": \"sepal.width\",\n      \"properties\": {\n        \"dtype\": \"number\",\n        \"std\": 0.4358662849366982,\n        \"min\": 2.0,\n        \"max\": 4.4,\n        \"num_unique_values\": 23,\n        \"samples\": [\n          2.3,\n          4.0,\n          3.5\n        ],\n        \"semantic_type\": \"\",\n        \"description\": \"\"\n      }\n    },\n    {\n      \"column\": \"petal.length\",\n      \"properties\": {\n        \"dtype\": \"number\",\n        \"std\": 1.7652982332594662,\n        \"min\": 1.0,\n        \"max\": 6.9,\n        \"num_unique_values\": 43,\n        \"samples\": [\n          6.7,\n          3.8,\n          3.7\n        ],\n        \"semantic_type\": \"\",\n        \"description\": \"\"\n      }\n    },\n    {\n      \"column\": \"petal.width\",\n      \"properties\": {\n        \"dtype\": \"number\",\n        \"std\": 0.7622376689603465,\n        \"min\": 0.1,\n        \"max\": 2.5,\n        \"num_unique_values\": 22,\n        \"samples\": [\n          0.2,\n          1.2,\n          1.3\n        ],\n        \"semantic_type\": \"\",\n        \"description\": \"\"\n      }\n    },\n    {\n      \"column\": \"variety\",\n      \"properties\": {\n        \"dtype\": \"category\",\n        \"num_unique_values\": 3,\n        \"samples\": [\n          \"Setosa\",\n          \"Versicolor\",\n          \"Virginica\"\n        ],\n        \"semantic_type\": \"\",\n        \"description\": \"\"\n      }\n    }\n  ]\n}"
            }
          },
          "metadata": {},
          "execution_count": 5
        }
      ]
    },
    {
      "cell_type": "markdown",
      "source": [
        "**About Iris Flower Dataset:**\n",
        "\n",
        "\n",
        "Iris Flower Dataset Contains 4 features i.e. Sepal Length, Sepal Width, Petal Length and Petal Width\n",
        "\n",
        "It has one target variable Species which is Variety containing 3 classes of 50 data each."
      ],
      "metadata": {
        "id": "sxIpJUzaw0d4"
      }
    },
    {
      "cell_type": "code",
      "source": [
        "df.columns"
      ],
      "metadata": {
        "colab": {
          "base_uri": "https://localhost:8080/"
        },
        "id": "_pHfkEVVlQE6",
        "outputId": "f2165050-fee6-4c4d-99f2-ffde926860a7"
      },
      "execution_count": null,
      "outputs": [
        {
          "output_type": "execute_result",
          "data": {
            "text/plain": [
              "Index(['sepal.length', 'sepal.width', 'petal.length', 'petal.width',\n",
              "       'variety'],\n",
              "      dtype='object')"
            ]
          },
          "metadata": {},
          "execution_count": 6
        }
      ]
    },
    {
      "cell_type": "code",
      "source": [
        "df.info()"
      ],
      "metadata": {
        "colab": {
          "base_uri": "https://localhost:8080/"
        },
        "id": "lIhzex3xlX8x",
        "outputId": "d3854c36-c5f6-41eb-cdf1-d1b1ebda8b8d"
      },
      "execution_count": null,
      "outputs": [
        {
          "output_type": "stream",
          "name": "stdout",
          "text": [
            "<class 'pandas.core.frame.DataFrame'>\n",
            "RangeIndex: 150 entries, 0 to 149\n",
            "Data columns (total 5 columns):\n",
            " #   Column        Non-Null Count  Dtype  \n",
            "---  ------        --------------  -----  \n",
            " 0   sepal.length  150 non-null    float64\n",
            " 1   sepal.width   150 non-null    float64\n",
            " 2   petal.length  150 non-null    float64\n",
            " 3   petal.width   150 non-null    float64\n",
            " 4   variety       150 non-null    object \n",
            "dtypes: float64(4), object(1)\n",
            "memory usage: 6.0+ KB\n"
          ]
        }
      ]
    },
    {
      "cell_type": "code",
      "source": [
        "df['variety'].value_counts()"
      ],
      "metadata": {
        "colab": {
          "base_uri": "https://localhost:8080/",
          "height": 209
        },
        "id": "kr6GP1xelrM7",
        "outputId": "d3e30476-e908-4e38-dfb6-252e381ae91d"
      },
      "execution_count": null,
      "outputs": [
        {
          "output_type": "execute_result",
          "data": {
            "text/plain": [
              "variety\n",
              "Setosa        50\n",
              "Versicolor    50\n",
              "Virginica     50\n",
              "Name: count, dtype: int64"
            ],
            "text/html": [
              "<div>\n",
              "<style scoped>\n",
              "    .dataframe tbody tr th:only-of-type {\n",
              "        vertical-align: middle;\n",
              "    }\n",
              "\n",
              "    .dataframe tbody tr th {\n",
              "        vertical-align: top;\n",
              "    }\n",
              "\n",
              "    .dataframe thead th {\n",
              "        text-align: right;\n",
              "    }\n",
              "</style>\n",
              "<table border=\"1\" class=\"dataframe\">\n",
              "  <thead>\n",
              "    <tr style=\"text-align: right;\">\n",
              "      <th></th>\n",
              "      <th>count</th>\n",
              "    </tr>\n",
              "    <tr>\n",
              "      <th>variety</th>\n",
              "      <th></th>\n",
              "    </tr>\n",
              "  </thead>\n",
              "  <tbody>\n",
              "    <tr>\n",
              "      <th>Setosa</th>\n",
              "      <td>50</td>\n",
              "    </tr>\n",
              "    <tr>\n",
              "      <th>Versicolor</th>\n",
              "      <td>50</td>\n",
              "    </tr>\n",
              "    <tr>\n",
              "      <th>Virginica</th>\n",
              "      <td>50</td>\n",
              "    </tr>\n",
              "  </tbody>\n",
              "</table>\n",
              "</div><br><label><b>dtype:</b> int64</label>"
            ]
          },
          "metadata": {},
          "execution_count": 9
        }
      ]
    },
    {
      "cell_type": "code",
      "source": [
        "data=np.genfromtxt('iris.csv',delimiter=',',skip_header=1)\n",
        "dataF=data[:,:-1]\n",
        "print(f\"The Features are {dataF}\")\n"
      ],
      "metadata": {
        "colab": {
          "base_uri": "https://localhost:8080/"
        },
        "id": "IeVQTXwBnNCE",
        "outputId": "d6bd9813-546b-4145-f33e-7089bb2d5bc4"
      },
      "execution_count": null,
      "outputs": [
        {
          "output_type": "stream",
          "name": "stdout",
          "text": [
            "The Features are [[5.1 3.5 1.4 0.2]\n",
            " [4.9 3.  1.4 0.2]\n",
            " [4.7 3.2 1.3 0.2]\n",
            " [4.6 3.1 1.5 0.2]\n",
            " [5.  3.6 1.4 0.2]\n",
            " [5.4 3.9 1.7 0.4]\n",
            " [4.6 3.4 1.4 0.3]\n",
            " [5.  3.4 1.5 0.2]\n",
            " [4.4 2.9 1.4 0.2]\n",
            " [4.9 3.1 1.5 0.1]\n",
            " [5.4 3.7 1.5 0.2]\n",
            " [4.8 3.4 1.6 0.2]\n",
            " [4.8 3.  1.4 0.1]\n",
            " [4.3 3.  1.1 0.1]\n",
            " [5.8 4.  1.2 0.2]\n",
            " [5.7 4.4 1.5 0.4]\n",
            " [5.4 3.9 1.3 0.4]\n",
            " [5.1 3.5 1.4 0.3]\n",
            " [5.7 3.8 1.7 0.3]\n",
            " [5.1 3.8 1.5 0.3]\n",
            " [5.4 3.4 1.7 0.2]\n",
            " [5.1 3.7 1.5 0.4]\n",
            " [4.6 3.6 1.  0.2]\n",
            " [5.1 3.3 1.7 0.5]\n",
            " [4.8 3.4 1.9 0.2]\n",
            " [5.  3.  1.6 0.2]\n",
            " [5.  3.4 1.6 0.4]\n",
            " [5.2 3.5 1.5 0.2]\n",
            " [5.2 3.4 1.4 0.2]\n",
            " [4.7 3.2 1.6 0.2]\n",
            " [4.8 3.1 1.6 0.2]\n",
            " [5.4 3.4 1.5 0.4]\n",
            " [5.2 4.1 1.5 0.1]\n",
            " [5.5 4.2 1.4 0.2]\n",
            " [4.9 3.1 1.5 0.2]\n",
            " [5.  3.2 1.2 0.2]\n",
            " [5.5 3.5 1.3 0.2]\n",
            " [4.9 3.6 1.4 0.1]\n",
            " [4.4 3.  1.3 0.2]\n",
            " [5.1 3.4 1.5 0.2]\n",
            " [5.  3.5 1.3 0.3]\n",
            " [4.5 2.3 1.3 0.3]\n",
            " [4.4 3.2 1.3 0.2]\n",
            " [5.  3.5 1.6 0.6]\n",
            " [5.1 3.8 1.9 0.4]\n",
            " [4.8 3.  1.4 0.3]\n",
            " [5.1 3.8 1.6 0.2]\n",
            " [4.6 3.2 1.4 0.2]\n",
            " [5.3 3.7 1.5 0.2]\n",
            " [5.  3.3 1.4 0.2]\n",
            " [7.  3.2 4.7 1.4]\n",
            " [6.4 3.2 4.5 1.5]\n",
            " [6.9 3.1 4.9 1.5]\n",
            " [5.5 2.3 4.  1.3]\n",
            " [6.5 2.8 4.6 1.5]\n",
            " [5.7 2.8 4.5 1.3]\n",
            " [6.3 3.3 4.7 1.6]\n",
            " [4.9 2.4 3.3 1. ]\n",
            " [6.6 2.9 4.6 1.3]\n",
            " [5.2 2.7 3.9 1.4]\n",
            " [5.  2.  3.5 1. ]\n",
            " [5.9 3.  4.2 1.5]\n",
            " [6.  2.2 4.  1. ]\n",
            " [6.1 2.9 4.7 1.4]\n",
            " [5.6 2.9 3.6 1.3]\n",
            " [6.7 3.1 4.4 1.4]\n",
            " [5.6 3.  4.5 1.5]\n",
            " [5.8 2.7 4.1 1. ]\n",
            " [6.2 2.2 4.5 1.5]\n",
            " [5.6 2.5 3.9 1.1]\n",
            " [5.9 3.2 4.8 1.8]\n",
            " [6.1 2.8 4.  1.3]\n",
            " [6.3 2.5 4.9 1.5]\n",
            " [6.1 2.8 4.7 1.2]\n",
            " [6.4 2.9 4.3 1.3]\n",
            " [6.6 3.  4.4 1.4]\n",
            " [6.8 2.8 4.8 1.4]\n",
            " [6.7 3.  5.  1.7]\n",
            " [6.  2.9 4.5 1.5]\n",
            " [5.7 2.6 3.5 1. ]\n",
            " [5.5 2.4 3.8 1.1]\n",
            " [5.5 2.4 3.7 1. ]\n",
            " [5.8 2.7 3.9 1.2]\n",
            " [6.  2.7 5.1 1.6]\n",
            " [5.4 3.  4.5 1.5]\n",
            " [6.  3.4 4.5 1.6]\n",
            " [6.7 3.1 4.7 1.5]\n",
            " [6.3 2.3 4.4 1.3]\n",
            " [5.6 3.  4.1 1.3]\n",
            " [5.5 2.5 4.  1.3]\n",
            " [5.5 2.6 4.4 1.2]\n",
            " [6.1 3.  4.6 1.4]\n",
            " [5.8 2.6 4.  1.2]\n",
            " [5.  2.3 3.3 1. ]\n",
            " [5.6 2.7 4.2 1.3]\n",
            " [5.7 3.  4.2 1.2]\n",
            " [5.7 2.9 4.2 1.3]\n",
            " [6.2 2.9 4.3 1.3]\n",
            " [5.1 2.5 3.  1.1]\n",
            " [5.7 2.8 4.1 1.3]\n",
            " [6.3 3.3 6.  2.5]\n",
            " [5.8 2.7 5.1 1.9]\n",
            " [7.1 3.  5.9 2.1]\n",
            " [6.3 2.9 5.6 1.8]\n",
            " [6.5 3.  5.8 2.2]\n",
            " [7.6 3.  6.6 2.1]\n",
            " [4.9 2.5 4.5 1.7]\n",
            " [7.3 2.9 6.3 1.8]\n",
            " [6.7 2.5 5.8 1.8]\n",
            " [7.2 3.6 6.1 2.5]\n",
            " [6.5 3.2 5.1 2. ]\n",
            " [6.4 2.7 5.3 1.9]\n",
            " [6.8 3.  5.5 2.1]\n",
            " [5.7 2.5 5.  2. ]\n",
            " [5.8 2.8 5.1 2.4]\n",
            " [6.4 3.2 5.3 2.3]\n",
            " [6.5 3.  5.5 1.8]\n",
            " [7.7 3.8 6.7 2.2]\n",
            " [7.7 2.6 6.9 2.3]\n",
            " [6.  2.2 5.  1.5]\n",
            " [6.9 3.2 5.7 2.3]\n",
            " [5.6 2.8 4.9 2. ]\n",
            " [7.7 2.8 6.7 2. ]\n",
            " [6.3 2.7 4.9 1.8]\n",
            " [6.7 3.3 5.7 2.1]\n",
            " [7.2 3.2 6.  1.8]\n",
            " [6.2 2.8 4.8 1.8]\n",
            " [6.1 3.  4.9 1.8]\n",
            " [6.4 2.8 5.6 2.1]\n",
            " [7.2 3.  5.8 1.6]\n",
            " [7.4 2.8 6.1 1.9]\n",
            " [7.9 3.8 6.4 2. ]\n",
            " [6.4 2.8 5.6 2.2]\n",
            " [6.3 2.8 5.1 1.5]\n",
            " [6.1 2.6 5.6 1.4]\n",
            " [7.7 3.  6.1 2.3]\n",
            " [6.3 3.4 5.6 2.4]\n",
            " [6.4 3.1 5.5 1.8]\n",
            " [6.  3.  4.8 1.8]\n",
            " [6.9 3.1 5.4 2.1]\n",
            " [6.7 3.1 5.6 2.4]\n",
            " [6.9 3.1 5.1 2.3]\n",
            " [5.8 2.7 5.1 1.9]\n",
            " [6.8 3.2 5.9 2.3]\n",
            " [6.7 3.3 5.7 2.5]\n",
            " [6.7 3.  5.2 2.3]\n",
            " [6.3 2.5 5.  1.9]\n",
            " [6.5 3.  5.2 2. ]\n",
            " [6.2 3.4 5.4 2.3]\n",
            " [5.9 3.  5.1 1.8]]\n"
          ]
        }
      ]
    },
    {
      "cell_type": "markdown",
      "source": [
        "**Label Encoding**\n",
        "\n",
        "As Values Target Variable of Iris Dataset is String we need to encode it into numerical value so that numerical calculation can be performed.\n",
        "\n",
        "So here we use sklearn library for the same purpose.\n"
      ],
      "metadata": {
        "id": "zY8Gx14-xF1b"
      }
    },
    {
      "cell_type": "code",
      "source": [
        "from sklearn.preprocessing import LabelEncoder\n",
        "class_le = LabelEncoder()\n",
        "dataL = class_le.fit_transform(df['variety'].values)\n",
        "print(\"Labels after Encoding:\")\n",
        "print(dataL)"
      ],
      "metadata": {
        "colab": {
          "base_uri": "https://localhost:8080/"
        },
        "id": "7ybdyuHjueG7",
        "outputId": "1f733600-3e66-419b-c815-e72ff3c73fc6"
      },
      "execution_count": null,
      "outputs": [
        {
          "output_type": "stream",
          "name": "stdout",
          "text": [
            "Labels after Encoding:\n",
            "[0 0 0 0 0 0 0 0 0 0 0 0 0 0 0 0 0 0 0 0 0 0 0 0 0 0 0 0 0 0 0 0 0 0 0 0 0\n",
            " 0 0 0 0 0 0 0 0 0 0 0 0 0 1 1 1 1 1 1 1 1 1 1 1 1 1 1 1 1 1 1 1 1 1 1 1 1\n",
            " 1 1 1 1 1 1 1 1 1 1 1 1 1 1 1 1 1 1 1 1 1 1 1 1 1 1 2 2 2 2 2 2 2 2 2 2 2\n",
            " 2 2 2 2 2 2 2 2 2 2 2 2 2 2 2 2 2 2 2 2 2 2 2 2 2 2 2 2 2 2 2 2 2 2 2 2 2\n",
            " 2 2]\n"
          ]
        }
      ]
    },
    {
      "cell_type": "markdown",
      "source": [
        "**Data Standardization**\n",
        "*   Function data_standard will take dataset and will return standardize data.\n",
        "*   Standardization of data will be done by first centralizing the data and then dividing it by standard deviation of the data to standardize it, now all features are on similar scale."
      ],
      "metadata": {
        "id": "ckVBjFduxnBF"
      }
    },
    {
      "cell_type": "code",
      "source": [
        "def data_standard(data):\n",
        "  print(f\"Part of Data before Standardization:{data[:10,:]}\")\n",
        "  print(f\"Size of Data before standardization:{data.shape}\")\n",
        "  mean=np.mean(data)\n",
        "  print(f\"The Mean of Old Data:{mean:.2f}\")\n",
        "\n",
        "  standard_dev=np.std(data)\n",
        "  print(f\"The Standard Deviation of Old Data:{standard_dev:.2f}\")\n",
        "\n",
        "  standard_data  = (data - mean )/standard_dev\n",
        "\n",
        "  print(f\"Part of Data After Standardization:{standard_data[:10,:]}\")\n",
        "  print(f\"Size of Data After standardization:{standard_data.shape}\")\n",
        "  new_mean=np.mean(standard_data)\n",
        "  print(f\"Mean of Data After Standardization:{new_mean:.2f}\")\n",
        "\n",
        "  new_std=np.std(standard_data)\n",
        "  print(f\"Standard Deviation of Data After Standardization:{new_std:.2f}\")\n",
        "\n",
        "  return standard_data\n",
        "st_data=data_standard(dataF)"
      ],
      "metadata": {
        "colab": {
          "base_uri": "https://localhost:8080/"
        },
        "id": "HtvNVVGuwB9q",
        "outputId": "384b923b-95e9-402d-fa63-6e330e1aa947"
      },
      "execution_count": null,
      "outputs": [
        {
          "output_type": "stream",
          "name": "stdout",
          "text": [
            "Part of Data before Standardization:[[5.1 3.5 1.4 0.2]\n",
            " [4.9 3.  1.4 0.2]\n",
            " [4.7 3.2 1.3 0.2]\n",
            " [4.6 3.1 1.5 0.2]\n",
            " [5.  3.6 1.4 0.2]\n",
            " [5.4 3.9 1.7 0.4]\n",
            " [4.6 3.4 1.4 0.3]\n",
            " [5.  3.4 1.5 0.2]\n",
            " [4.4 2.9 1.4 0.2]\n",
            " [4.9 3.1 1.5 0.1]]\n",
            "Size of Data before standardization:(150, 4)\n",
            "The Mean of Old Data:3.46\n",
            "The Standard Deviation of Old Data:1.97\n",
            "Part of Data After Standardization:[[ 0.82858665  0.01798522 -1.04592915 -1.65388022]\n",
            " [ 0.72726147 -0.23532773 -1.04592915 -1.65388022]\n",
            " [ 0.62593629 -0.13400255 -1.09659174 -1.65388022]\n",
            " [ 0.5752737  -0.18466514 -0.99526657 -1.65388022]\n",
            " [ 0.77792406  0.06864781 -1.04592915 -1.65388022]\n",
            " [ 0.98057441  0.22063558 -0.89394139 -1.55255505]\n",
            " [ 0.5752737  -0.03267737 -1.04592915 -1.60321764]\n",
            " [ 0.77792406 -0.03267737 -0.99526657 -1.65388022]\n",
            " [ 0.47394852 -0.28599032 -1.04592915 -1.65388022]\n",
            " [ 0.72726147 -0.18466514 -0.99526657 -1.70454281]]\n",
            "Size of Data After standardization:(150, 4)\n",
            "Mean of Data After Standardization:0.00\n",
            "Standard Deviation of Data After Standardization:1.00\n"
          ]
        }
      ]
    },
    {
      "cell_type": "markdown",
      "source": [
        "**Question-1**\n",
        "\n",
        "Implement Linear Discriminant Analysis as a function. The function\n",
        "should take data points as inputs and should return the data in the\n",
        "reduced space.\n",
        "\n",
        "Solution:"
      ],
      "metadata": {
        "id": "uJgnhFwmxy_p"
      }
    },
    {
      "cell_type": "markdown",
      "source": [
        "**LDA Function**\n",
        "\n",
        "The goal of LDA is to find the feature subspace that optimizes class separability. Hence, LDA is a supervised algorithm.\n",
        "\n",
        "* This Function will take Features, Labels and Num_components to form as input and will Return Reduced Data Space and Linear Discriminants as output.\n",
        "* First it will calculate class mean and overall means.\n",
        "* Next It will calculate with within class scatter with the help of class mean and store it in matrix.\n",
        "* Then It will calculate between class scatter with the help of overall mean and store it in matrix.\n",
        "* Eigenvalues and Eigen Vectors will be calculated from the matrix which is Dot product of Within Class Matrix and Between Class Matrix.\n",
        "* Eigen Vectors is then multiplied with original Data to get Reduced Data space.\n",
        "\n"
      ],
      "metadata": {
        "id": "DJiO-6_Dx6hn"
      }
    },
    {
      "cell_type": "code",
      "source": [
        "def LDA(X, y, num_components):\n",
        "\n",
        "\n",
        "    n_samples, n_features = X.shape\n",
        "    classes = np.unique(y)\n",
        "    n_classes = len(classes)\n",
        "\n",
        "    mean_vectors = []\n",
        "    for c in classes:\n",
        "        mean_vectors.append(np.mean(X[y == c], axis=0))\n",
        "    print(\"Mean Vectors:\",mean_vectors)\n",
        "\n",
        "    mean_overall = np.mean(X, axis=0)\n",
        "    print(\"Feature Wise Overall Mean of Data:\",mean_overall)\n",
        "    print(\"Shape of Overall Mean:\",mean_overall.shape)\n",
        "\n",
        "    WithinClass_Mat = np.zeros((n_features, n_features))\n",
        "    for c, mean_vec in zip(classes, mean_vectors):\n",
        "        class_scatter = np.cov(X[y == c].T)\n",
        "        WithinClass_Mat += class_scatter\n",
        "    print(\"Within Class Scatter Matrix:\",WithinClass_Mat)\n",
        "    print(\"Shape of Within Class Scatter Matrix:\",WithinClass_Mat.shape)\n",
        "\n",
        "\n",
        "    BetweenClass_Mat = np.zeros((n_features, n_features))\n",
        "    for c, mean_vec in zip(classes, mean_vectors):\n",
        "        n = X[y == c].shape[0]\n",
        "        mean_vec, mean_overall = mean_vec.reshape(n_features, 1), mean_overall.reshape(n_features, 1)\n",
        "        BetweenClass_Mat += n * (mean_vec - mean_overall).dot((mean_vec - mean_overall).T)\n",
        "\n",
        "    print(\"Between Class Scatter Matrix:\",BetweenClass_Mat)\n",
        "    print(\"Shape of Between Class Scatter Matrix:\",BetweenClass_Mat.shape)\n",
        "\n",
        "    eigvals, eigvecs = np.linalg.eig(np.linalg.inv(WithinClass_Mat).dot(BetweenClass_Mat))\n",
        "\n",
        "    print(\"Eigenvalues:\",eigvals)\n",
        "    print(\"Eigenvectors Corresponding to Eigenvalues:\",eigvecs)\n",
        "\n",
        "    Index = np.argsort(eigvals)[::-1]\n",
        "    eigvecs, eigvals = eigvecs[:, Index],eigvals[Index]\n",
        "    print(\"Eigenvalues in Decreasing Order:\",eigvals)\n",
        "    print(\"Eigenvectors Corresponding to decreasing Eigenvalues:\",eigvecs)\n",
        "\n",
        "    W = eigvecs[:, :num_components]\n",
        "\n",
        "    LDA_space =X.dot(W)\n",
        "\n",
        "\n",
        "    return LDA_space,W\n",
        "Reduced_data,LDA_Components=LDA(st_data,dataL,2)\n",
        "print(\"Part of New Feature Space:\",Reduced_data[:10])\n",
        "print(\"Shape of New Feature Space:\",Reduced_data.shape)"
      ],
      "metadata": {
        "colab": {
          "base_uri": "https://localhost:8080/"
        },
        "id": "2Tx20XCSIWUZ",
        "outputId": "cd007fe7-3aaa-4b4e-9987-06330b7c0367"
      },
      "execution_count": null,
      "outputs": [
        {
          "output_type": "stream",
          "name": "stdout",
          "text": [
            "Mean Vectors: [array([ 0.78096381, -0.01849185, -1.01451835, -1.63057543]), array([ 1.25212589, -0.35185168,  0.4030209 , -1.08341947]), array([ 1.58244597, -0.2485    ,  1.05758155, -0.72878135])]\n",
            "Feature Wise Overall Mean of Data: [ 1.20517856 -0.20628118  0.1486947  -1.14759208]\n",
            "Shape of Overall Mean: (4,)\n",
            "Within Class Scatter Matrix: [[0.20405877 0.07139611 0.12898757 0.02956941]\n",
            " [0.07139611 0.08884965 0.04253804 0.02518716]\n",
            " [0.12898757 0.04253804 0.14259631 0.03285269]\n",
            " [0.02956941 0.02518716 0.03285269 0.03224925]]\n",
            "Shape of Within Class Scatter Matrix: (4, 4)\n",
            "Between Class Scatter Matrix: [[ 16.22464528  -5.12124685  42.41427288  18.29525184]\n",
            " [ -5.12124685   2.91190171 -14.69167637  -5.88612284]\n",
            " [ 42.41427288 -14.69167637 112.19108587  47.93924421]\n",
            " [ 18.29525184  -5.88612284  47.93924421  20.63967375]]\n",
            "Shape of Between Class Scatter Matrix: (4, 4)\n",
            "Eigenvalues: [ 1.57740453e+03  1.39841611e+01 -2.99131078e-14  7.44914463e-14]\n",
            "Eigenvectors Corresponding to Eigenvalues: [[-0.20874182 -0.00653196 -0.87895969 -0.1930586 ]\n",
            " [-0.38620369 -0.58661055  0.24929568 -0.26499303]\n",
            " [ 0.55401172  0.25256154  0.21842362 -0.33858044]\n",
            " [ 0.7073504  -0.76945309  0.34288869  0.88196959]]\n",
            "Eigenvalues in Decreasing Order: [ 1.57740453e+03  1.39841611e+01  7.44914463e-14 -2.99131078e-14]\n",
            "Eigenvectors Corresponding to decreasing Eigenvalues: [[-0.20874182 -0.00653196 -0.1930586  -0.87895969]\n",
            " [-0.38620369 -0.58661055 -0.26499303  0.24929568]\n",
            " [ 0.55401172  0.25256154 -0.33858044  0.21842362]\n",
            " [ 0.7073504  -0.76945309  0.88196959  0.34288869]]\n",
            "Part of New Feature Space: [[-1.92923648  0.99245916]\n",
            " [-1.81025529  1.14171706]\n",
            " [-1.85630431  1.07014507]\n",
            " [-1.77002749  1.12578605]\n",
            " [-1.93822716  0.96307087]\n",
            " [-1.88335159  0.83301083]\n",
            " [-1.82095719  0.98485051]\n",
            " [-1.87102733  1.03530471]\n",
            " [-1.7378122   1.1730909 ]\n",
            " [-1.8375899   1.16377576]]\n",
            "Shape of New Feature Space: (150, 2)\n"
          ]
        }
      ]
    },
    {
      "cell_type": "code",
      "source": [
        "Rdata=pd.DataFrame(Reduced_data)\n",
        "Rdata['class']=dataL\n",
        "Rdata.columns=[\"LD1\",\"LD2\",\"class\"]\n",
        "print(\"The Reduced Data Space Information:\")\n",
        "print(Rdata.info())"
      ],
      "metadata": {
        "colab": {
          "base_uri": "https://localhost:8080/"
        },
        "id": "wNtd_8fF1xdS",
        "outputId": "ce9f7903-fe4f-4930-b0e5-c0464c9a5926"
      },
      "execution_count": null,
      "outputs": [
        {
          "output_type": "stream",
          "name": "stdout",
          "text": [
            "The Reduced Data Space Information:\n",
            "<class 'pandas.core.frame.DataFrame'>\n",
            "RangeIndex: 150 entries, 0 to 149\n",
            "Data columns (total 3 columns):\n",
            " #   Column  Non-Null Count  Dtype  \n",
            "---  ------  --------------  -----  \n",
            " 0   LD1     150 non-null    float64\n",
            " 1   LD2     150 non-null    float64\n",
            " 2   class   150 non-null    int64  \n",
            "dtypes: float64(2), int64(1)\n",
            "memory usage: 3.6 KB\n",
            "None\n"
          ]
        }
      ]
    },
    {
      "cell_type": "code",
      "source": [
        "print(Rdata.head())"
      ],
      "metadata": {
        "colab": {
          "base_uri": "https://localhost:8080/"
        },
        "id": "Nv0PDAMU22El",
        "outputId": "2db0622c-92eb-428f-db91-9d5846071723"
      },
      "execution_count": null,
      "outputs": [
        {
          "output_type": "stream",
          "name": "stdout",
          "text": [
            "        LD1       LD2  class\n",
            "0 -1.929236  0.992459      0\n",
            "1 -1.810255  1.141717      0\n",
            "2 -1.856304  1.070145      0\n",
            "3 -1.770027  1.125786      0\n",
            "4 -1.938227  0.963071      0\n"
          ]
        }
      ]
    },
    {
      "cell_type": "markdown",
      "source": [
        "**Transformed Space Plot**"
      ],
      "metadata": {
        "id": "8KPAXdOL0RN2"
      }
    },
    {
      "cell_type": "code",
      "source": [
        "markers = ['s', 'x','o']\n",
        "sns.lmplot(x=\"LD1\", y=\"LD2\", data=Rdata, markers=markers,fit_reg=False, hue='class', legend=False)\n",
        "plt.legend(loc='upper center')\n",
        "plt.show()"
      ],
      "metadata": {
        "colab": {
          "base_uri": "https://localhost:8080/",
          "height": 506
        },
        "id": "LOBu3gB12_gC",
        "outputId": "0642d30a-d591-4d9c-be09-a58100f5f093"
      },
      "execution_count": null,
      "outputs": [
        {
          "output_type": "display_data",
          "data": {
            "text/plain": [
              "<Figure size 500x500 with 1 Axes>"
            ],
            "image/png": "[encoded data removed]"
          },
          "metadata": {}
        }
      ]
    },
    {
      "cell_type": "markdown",
      "source": [
        "**Question-2**\n",
        "In the Iris dataset, choose the first 2 features, i.e. sepal length and\n",
        "sepal width."
      ],
      "metadata": {
        "id": "v18UCL0T5tL9"
      }
    },
    {
      "cell_type": "markdown",
      "source": [
        "**Question-2(a)**\n",
        "\n",
        "Run your code on this Iris dataset and obtain the linear discriminant."
      ],
      "metadata": {
        "id": "xA7b2ysr5wq8"
      }
    },
    {
      "cell_type": "code",
      "source": [
        "#Slicing last two features from Iris dataset\n",
        "new_data=data[:,:-3]\n",
        "print(f\"Part of Iris Dataset with First 2 features:{new_data[:10,:]}\")"
      ],
      "metadata": {
        "colab": {
          "base_uri": "https://localhost:8080/"
        },
        "id": "IPvpsvO350th",
        "outputId": "68502eb1-7612-456d-93f8-90d37e27844d"
      },
      "execution_count": null,
      "outputs": [
        {
          "output_type": "stream",
          "name": "stdout",
          "text": [
            "Part of Iris Dataset with First 2 features:[[5.1 3.5]\n",
            " [4.9 3. ]\n",
            " [4.7 3.2]\n",
            " [4.6 3.1]\n",
            " [5.  3.6]\n",
            " [5.4 3.9]\n",
            " [4.6 3.4]\n",
            " [5.  3.4]\n",
            " [4.4 2.9]\n",
            " [4.9 3.1]]\n"
          ]
        }
      ]
    },
    {
      "cell_type": "code",
      "source": [
        "st1=data_standard(new_data)\n",
        "DataSetReduced,LDA_Comp2=LDA(st1,dataL,2)\n",
        "print(\"Part of New Feature Space:\",DataSetReduced[:10])\n",
        "print(\"Shape of New Feature Space:\",DataSetReduced.shape)"
      ],
      "metadata": {
        "colab": {
          "base_uri": "https://localhost:8080/"
        },
        "id": "UiDk9Bti6NbB",
        "outputId": "0751af7c-4678-45ca-a85c-4bdb3df33fed"
      },
      "execution_count": null,
      "outputs": [
        {
          "output_type": "stream",
          "name": "stdout",
          "text": [
            "Part of Data before Standardization:[[5.1 3.5]\n",
            " [4.9 3. ]\n",
            " [4.7 3.2]\n",
            " [4.6 3.1]\n",
            " [5.  3.6]\n",
            " [5.4 3.9]\n",
            " [4.6 3.4]\n",
            " [5.  3.4]\n",
            " [4.4 2.9]\n",
            " [4.9 3.1]]\n",
            "Size of Data before standardization:(150, 2)\n",
            "The Mean of Old Data:4.45\n",
            "The Standard Deviation of Old Data:1.54\n",
            "Part of Data After Standardization:[[ 0.42152687 -0.61661011]\n",
            " [ 0.29175975 -0.94102792]\n",
            " [ 0.16199263 -0.8112608 ]\n",
            " [ 0.09710906 -0.87614436]\n",
            " [ 0.35664331 -0.55172655]\n",
            " [ 0.61617756 -0.35707587]\n",
            " [ 0.09710906 -0.68149368]\n",
            " [ 0.35664331 -0.68149368]\n",
            " [-0.03265806 -1.00591148]\n",
            " [ 0.29175975 -0.87614436]]\n",
            "Size of Data After standardization:(150, 2)\n",
            "Mean of Data After Standardization:-0.00\n",
            "Standard Deviation of Data After Standardization:1.00\n",
            "Mean Vectors: [array([ 0.36053632, -0.66332628]), array([ 0.96395345, -1.09026011]), array([ 1.38699427, -0.95789765])]\n",
            "Feature Wise Overall Mean of Data: [ 0.90382801 -0.90382801]\n",
            "Shape of Overall Mean: (2,)\n",
            "Within Class Scatter Matrix: [[0.3346955  0.1171033 ]\n",
            " [0.1171033  0.14573046]]\n",
            "Shape of Within Class Scatter Matrix: (2, 2)\n",
            "Between Class Scatter Matrix: [[26.61152789 -8.39982638]\n",
            " [-8.39982638  4.7760769 ]]\n",
            "Shape of Between Class Scatter Matrix: (2, 2)\n",
            "Eigenvalues: [204.41813727   7.88878876]\n",
            "Eigenvectors Corresponding to Eigenvalues: [[ 0.61183831  0.36249698]\n",
            " [-0.79098286  0.93198495]]\n",
            "Eigenvalues in Decreasing Order: [204.41813727   7.88878876]\n",
            "Eigenvectors Corresponding to decreasing Eigenvalues: [[ 0.61183831  0.36249698]\n",
            " [-0.79098286  0.93198495]]\n",
            "Part of New Feature Space: [[ 0.74563432 -0.42186913]\n",
            " [ 0.92284675 -0.77126183]\n",
            " [ 0.74080668 -0.69736101]\n",
            " [ 0.75243022 -0.78135161]\n",
            " [ 0.65461429 -0.38491872]\n",
            " [ 0.65944192 -0.10942683]\n",
            " [ 0.59846486 -0.5999401 ]\n",
            " [ 0.75725786 -0.50585972]\n",
            " [ 0.77567729 -0.94933281]\n",
            " [ 0.87152496 -0.71079133]]\n",
            "Shape of New Feature Space: (150, 2)\n"
          ]
        }
      ]
    },
    {
      "cell_type": "code",
      "source": [
        "DataSetReduced1=pd.DataFrame(DataSetReduced)\n",
        "DataSetReduced1['class']=dataL\n",
        "DataSetReduced1.columns=[\"LD1\",\"LD2\",\"classes\"]\n",
        "print(\"The Reduced Data Space Information:\")\n",
        "print(DataSetReduced1.info())"
      ],
      "metadata": {
        "colab": {
          "base_uri": "https://localhost:8080/"
        },
        "id": "H59K8XP38zwD",
        "outputId": "db0f119e-e48c-4933-9f43-131decf227a0"
      },
      "execution_count": null,
      "outputs": [
        {
          "output_type": "stream",
          "name": "stdout",
          "text": [
            "The Reduced Data Space Information:\n",
            "<class 'pandas.core.frame.DataFrame'>\n",
            "RangeIndex: 150 entries, 0 to 149\n",
            "Data columns (total 3 columns):\n",
            " #   Column   Non-Null Count  Dtype  \n",
            "---  ------   --------------  -----  \n",
            " 0   LD1      150 non-null    float64\n",
            " 1   LD2      150 non-null    float64\n",
            " 2   classes  150 non-null    int64  \n",
            "dtypes: float64(2), int64(1)\n",
            "memory usage: 3.6 KB\n",
            "None\n"
          ]
        }
      ]
    },
    {
      "cell_type": "markdown",
      "source": [
        "**Question-2(b)**\n",
        "\n",
        "Plot the linear discriminant in the original space. Further, show the\n",
        "transformed data."
      ],
      "metadata": {
        "id": "WBBBUUmB0_o1"
      }
    },
    {
      "cell_type": "markdown",
      "source": [
        "**Linear Discriminants on Original Space**"
      ],
      "metadata": {
        "id": "rSsEXweI1m7t"
      }
    },
    {
      "cell_type": "code",
      "source": [
        "df = pd.DataFrame(st1, columns=['Sepal_Length', 'Sepal_Width'])\n",
        "df['classes'] = dataL\n",
        "slope1 = LDA_Comp2[1,0]/LDA_Comp2[0,0]\n",
        "intercept1 = DataSetReduced1['LD1'].mean() - slope1 * DataSetReduced1['LD2'].mean()\n",
        "slope2 = LDA_Comp2[1,1]/LDA_Comp2[0,1]\n",
        "intercept2 = DataSetReduced1['LD1'].mean() - slope2 * DataSetReduced1['LD2'].mean()\n",
        "\n",
        "sns.lmplot(x=\"Sepal_Width\", y=\"Sepal_Length\", data=df, markers=markers, fit_reg=False, hue='classes', legend=False)\n",
        "x = np.linspace(-2, 1, 100)\n",
        "y = slope1 * x + intercept1\n",
        "plt.plot(x, y, '-r', label='LD1')\n",
        "x = np.linspace(-2, 1, 100)\n",
        "y = slope2 * x + intercept2\n",
        "plt.plot(x, y, '-g', label='LD2')\n",
        "\n",
        "plt.legend(loc='upper center')\n",
        "plt.show()"
      ],
      "metadata": {
        "colab": {
          "base_uri": "https://localhost:8080/",
          "height": 507
        },
        "id": "Ss9uGifa9YXj",
        "outputId": "f9eac0fd-6bc6-4e43-9451-2f2b0a2b89ac"
      },
      "execution_count": null,
      "outputs": [
        {
          "output_type": "display_data",
          "data": {
            "text/plain": [
              "<Figure size 500x500 with 1 Axes>"
            ],
            "image/png": "[encoded data removed]"
          },
          "metadata": {}
        }
      ]
    },
    {
      "cell_type": "markdown",
      "source": [
        "**Transformed Data**"
      ],
      "metadata": {
        "id": "YYVa7xXh1bDk"
      }
    },
    {
      "cell_type": "code",
      "source": [
        "markers = ['s', 'x','o']\n",
        "sns.lmplot(x=\"LD1\", y=\"LD2\", data=DataSetReduced1, markers=markers,fit_reg=False, hue='classes', legend=False)\n",
        "plt.legend(loc='upper center')\n",
        "plt.show()"
      ],
      "metadata": {
        "colab": {
          "base_uri": "https://localhost:8080/",
          "height": 506
        },
        "id": "0t0utgL18dnN",
        "outputId": "77d06e3b-bf75-444b-a5c0-a10df2f54c92"
      },
      "execution_count": null,
      "outputs": [
        {
          "output_type": "display_data",
          "data": {
            "text/plain": [
              "<Figure size 500x500 with 1 Axes>"
            ],
            "image/png": "[encoded data removed]"
          },
          "metadata": {}
        }
      ]
    },
    {
      "cell_type": "markdown",
      "source": [
        "**Question 2(c)**\n",
        "\n",
        "Find the distance between the projected means of the two classes."
      ],
      "metadata": {
        "id": "f4crwmqa1x-u"
      }
    },
    {
      "cell_type": "code",
      "source": [
        "classes=np.unique(dataL)\n",
        "mean_class_0 = DataSetReduced1[dataL == classes[0]].mean()\n",
        "mean_class_1 = DataSetReduced1[dataL == classes[1]].mean()\n",
        "distance = np.abs(mean_class_0 - mean_class_1)\n",
        "print(\"The Distance Between Projected mean of the two Classes and both the Components:\")\n",
        "print(distance)\n"
      ],
      "metadata": {
        "colab": {
          "base_uri": "https://localhost:8080/"
        },
        "id": "bx01rVJJL5ou",
        "outputId": "17120fbc-085c-4302-e4cd-e9b8fa84b1d1"
      },
      "execution_count": null,
      "outputs": [
        {
          "output_type": "stream",
          "name": "stdout",
          "text": [
            "The Distance Between Projected mean of the two Classes and both the Components:\n",
            "LD1        0.706891\n",
            "LD2        0.179159\n",
            "classes    1.000000\n",
            "dtype: float64\n"
          ]
        }
      ]
    },
    {
      "cell_type": "markdown",
      "source": [
        "**Question-3**\n",
        "\n",
        "Generate a binary dataset (200 samples in each class ) with mean [2,2],\n",
        "[6,-2] and covariance matrix being [1, 1.5; 1.5, 3] respectively."
      ],
      "metadata": {
        "id": "RJ9hGI_YLmvq"
      }
    },
    {
      "cell_type": "code",
      "source": [
        "mean_class_0 = [2, 2]\n",
        "mean_class_1 = [6, -2]\n",
        "covariance_matrix = [[1, 1.5], [1.5, 3]]\n",
        "\n",
        "class_0_samples = np.random.multivariate_normal(mean_class_0, covariance_matrix, 200)\n",
        "class_1_samples = np.random.multivariate_normal(mean_class_1, covariance_matrix, 200)\n",
        "\n",
        "Features = np.vstack((class_0_samples, class_1_samples))\n",
        "Labels = np.array([0] * 200 + [1] * 200)\n",
        "Generated_dataset = np.column_stack((Features, Labels))\n",
        "print(\"The Randomly Generated Dataset is:\")\n",
        "print(Generated_dataset)\n",
        "print(\"Shape of Generated Dataset:\",Generated_dataset.shape)\n"
      ],
      "metadata": {
        "colab": {
          "base_uri": "https://localhost:8080/"
        },
        "id": "yE70kTa5UIOE",
        "outputId": "e2e9b471-718c-42f5-f280-aa1b42e01f3c"
      },
      "execution_count": null,
      "outputs": [
        {
          "output_type": "stream",
          "name": "stdout",
          "text": [
            "The Randomly Generated Dataset is:\n",
            "[[ 1.8699447   1.71274104  0.        ]\n",
            " [ 1.91754292  2.22388674  0.        ]\n",
            " [ 1.31815749  1.09420937  0.        ]\n",
            " ...\n",
            " [ 5.75671654 -2.67460943  1.        ]\n",
            " [ 5.30073956 -3.94980933  1.        ]\n",
            " [ 5.25041079 -4.08346484  1.        ]]\n",
            "Shape of Generated Dataset: (400, 3)\n"
          ]
        }
      ]
    },
    {
      "cell_type": "markdown",
      "source": [
        "**Question-3(a)**\n",
        "\n",
        "Perform dimension reduction using PCA and obtain the transformed\n",
        "data using only the first PC."
      ],
      "metadata": {
        "id": "KnSoREjHWAC7"
      }
    },
    {
      "cell_type": "markdown",
      "source": [
        " **PCA Function**\n",
        "\n",
        "\n",
        "\n",
        "*   Function PCA will take parameters i.e. Data and Num of Components(in this case 1) retain as input and will return reduced data.\n",
        "*  Centered Meaned Data will be passed to np.cov which will find covariance  matrix of the data.\n",
        "\n",
        "*   Eigen Values, Eigen Vectors will be passed to np.linalg.eigh which will return eigen values and vectors, which will be then reverse sorted.\n",
        "\n",
        "*   Then the retain eigen vector will be projected on the data and that will be the reduced space.\n",
        "\n"
      ],
      "metadata": {
        "id": "EJYQWXiI2nNt"
      }
    },
    {
      "cell_type": "code",
      "source": [
        "def PCA(data,num_components):\n",
        "  data_meaned = data - np.mean(data, axis=0)\n",
        "  print(f\"Part of Data after Mean:{data_meaned[:10,:]}\")\n",
        "  print(f\"Size of Data after Mean:{data_meaned.shape}\")\n",
        "\n",
        "  cov_matrix = np.cov(data_meaned, rowvar=False)\n",
        "\n",
        "  print(f\"Covariance Matrix of the standardize data:{cov_matrix}\")\n",
        "  print(f\"Size of Covariance Matrix of the standardize data:{cov_matrix.shape}\")\n",
        "\n",
        "  eigen_val, eigen_vec=np.linalg.eigh(cov_matrix)\n",
        "  print(f\"Eigen Values of the Covariance Matrix:{eigen_val}\")\n",
        "  print(f\"Corresponding Eigen Vectors of the Covariance Matrix:{eigen_vec}\")\n",
        "\n",
        "  index = np.argsort(eigen_val)[::-1]\n",
        "  sorted_eigenval,sorted_eigenvec=eigen_val[index],eigen_vec[:,index]\n",
        "  print(f\"Eigen Values in Decreasing Order:{sorted_eigenval}\")\n",
        "  print(f\"Eigen Vectors in corresponding to decreasing eigen values:{sorted_eigenvec}\")\n",
        "  print(f\"Size of Eigen Vectors{sorted_eigenvec.shape}\")\n",
        "\n",
        "  principal_components=sorted_eigenvec[:num_components]\n",
        "  print(f\"Principal components retained are:{principal_components}\")\n",
        "  print(f\"Size of Principal Components{principal_components.shape}\")\n",
        "\n",
        "  reduced_data=np.matmul(principal_components,data.T).T\n",
        "  print(f\"Size of Reduced Data:{reduced_data.shape}\")\n",
        "\n",
        "  return reduced_data"
      ],
      "metadata": {
        "id": "ZWL9EKCOVRrK"
      },
      "execution_count": null,
      "outputs": []
    },
    {
      "cell_type": "code",
      "source": [
        "PCADataReduced=PCA(Features,1)"
      ],
      "metadata": {
        "colab": {
          "base_uri": "https://localhost:8080/"
        },
        "id": "ys-1sSNhWKSP",
        "outputId": "c6387bf2-c027-49e0-e69c-477e1e326a11"
      },
      "execution_count": null,
      "outputs": [
        {
          "output_type": "stream",
          "name": "stdout",
          "text": [
            "Part of Data after Mean:[[-2.41874073  1.13834755]\n",
            " [-1.44740116  3.58384258]\n",
            " [-3.1936938   0.00997996]\n",
            " [-1.65447968  3.706179  ]\n",
            " [-3.78761081 -1.66396264]\n",
            " [-4.49089666 -1.36765418]\n",
            " [-2.74022968  1.62661248]\n",
            " [-1.61917639  1.79885511]\n",
            " [-3.35936048 -1.33234165]\n",
            " [-1.46790019  2.83081099]]\n",
            "Size of Data after Mean:(400, 2)\n",
            "Covariance Matrix of the standardize data:[[ 4.91313841 -2.47321412]\n",
            " [-2.47321412  6.65299412]]\n",
            "Size of Covariance Matrix of the standardize data:(2, 2)\n",
            "Eigen Values of the Covariance Matrix:[3.16131827 8.40481426]\n",
            "Corresponding Eigen Vectors of the Covariance Matrix:[[-0.81603068 -0.57800858]\n",
            " [-0.57800858  0.81603068]]\n",
            "Eigen Values in Decreasing Order:[8.40481426 3.16131827]\n",
            "Eigen Vectors in corresponding to decreasing eigen values:[[-0.57800858 -0.81603068]\n",
            " [ 0.81603068 -0.57800858]]\n",
            "Size of Eigen Vectors(2, 2)\n",
            "Principal components retained are:[[-0.57800858 -0.81603068]]\n",
            "Size of Principal Components(1, 2)\n",
            "Size of Reduced Data:(400, 1)\n"
          ]
        }
      ]
    },
    {
      "cell_type": "markdown",
      "source": [
        "**Question-3(b)**\n",
        "\n",
        "Perform Dimension reduction using LDA and obtain the transformed\n",
        "data using the linear discriminant."
      ],
      "metadata": {
        "id": "uVXcxOJ42x8U"
      }
    },
    {
      "cell_type": "code",
      "source": [
        "LDADataReduced,LDA_Co=LDA(stg,Labels,1)\n",
        "print(\"Part of New Feature Space:\",LDADataReduced[:10])\n",
        "print(\"Shape of New Feature Space:\",LDADataReduced.shape)"
      ],
      "metadata": {
        "colab": {
          "base_uri": "https://localhost:8080/"
        },
        "id": "pwlWvkdbVEz8",
        "outputId": "9e1f192a-3085-4f8e-c1a2-5743fef6dc8e"
      },
      "execution_count": null,
      "outputs": [
        {
          "output_type": "stream",
          "name": "stdout",
          "text": [
            "Mean Vectors: [array([-0.01100642, -0.02877034]), array([ 1.27832065, -1.2385439 ])]\n",
            "Feature Wise Overall Mean of Data: [ 0.63365712 -0.63365712]\n",
            "Shape of Overall Mean: (2,)\n",
            "Within Class Scatter Matrix: [[0.21543022 0.32168908]\n",
            " [0.32168908 0.6197019 ]]\n",
            "Shape of Within Class Scatter Matrix: (2, 2)\n",
            "Between Class Scatter Matrix: [[ 166.2364297  -155.97938038]\n",
            " [-155.97938038  146.35520714]]\n",
            "Shape of Between Class Scatter Matrix: (2, 2)\n",
            "Eigenvalues: [7.82513942e+03 4.54747351e-13]\n",
            "Eigenvectors Corresponding to Eigenvalues: [[ 0.86936604  0.68425095]\n",
            " [-0.49416869  0.72924662]]\n",
            "Eigenvalues in Decreasing Order: [7.82513942e+03 4.54747351e-13]\n",
            "Eigenvectors Corresponding to decreasing Eigenvalues: [[ 0.86936604  0.68425095]\n",
            " [-0.49416869  0.72924662]]\n",
            "Part of New Feature Space: [[ 0.09459793]\n",
            " [ 0.15893967]\n",
            " [ 0.04163962]\n",
            " [ 0.09600026]\n",
            " [-0.09873411]\n",
            " [ 0.13467829]\n",
            " [ 0.18423596]\n",
            " [ 0.05360124]\n",
            " [ 0.0768642 ]\n",
            " [-0.05833076]]\n",
            "Shape of New Feature Space: (400, 1)\n"
          ]
        }
      ]
    },
    {
      "cell_type": "markdown",
      "source": [
        "**Question-3(c)**\n",
        "\n",
        "Compare the accuracy of classification on the original, PCA and\n",
        "LDA-transformed datasets ( For this task you can use any inbuilt su-\n",
        "pervised classifier ). Briefly explain your observations from empirical\n",
        "analysis of the classification accuracies in the aforementioned cases.\n"
      ],
      "metadata": {
        "id": "Ueb9SKXl3cL4"
      }
    },
    {
      "cell_type": "markdown",
      "source": [
        "Solution:\n",
        "\n",
        "**KNN Classifier** is used for the classification and measuring classification accuracy purpose. Sklearn Library is used for implementation of the same."
      ],
      "metadata": {
        "id": "fAz7XFiP3sxS"
      }
    },
    {
      "cell_type": "code",
      "source": [
        "import numpy as np\n",
        "import pandas as pd\n",
        "from sklearn.neighbors import KNeighborsClassifier\n",
        "from sklearn.model_selection import train_test_split\n",
        "from sklearn.metrics import accuracy_score\n",
        "\n",
        "X_train, X_test, y_train, y_test = train_test_split(Features, Labels, test_size=0.2, random_state=42)"
      ],
      "metadata": {
        "id": "Nez3Ov4KYmWB"
      },
      "execution_count": null,
      "outputs": []
    },
    {
      "cell_type": "markdown",
      "source": [
        "Classification Accuracy of original data"
      ],
      "metadata": {
        "id": "eOiTmPvB4cC2"
      }
    },
    {
      "cell_type": "code",
      "source": [
        "knn = KNeighborsClassifier(n_neighbors=5)  # You can choose the number of neighbors\n",
        "knn.fit(X_train, y_train)\n",
        "y_pred_original = knn.predict(X_test)\n",
        "accuracy_original = accuracy_score(y_test, y_pred_original)\n",
        "print(f\"Accuracy of Original Data: {accuracy_original*100}%\")"
      ],
      "metadata": {
        "colab": {
          "base_uri": "https://localhost:8080/"
        },
        "id": "FYqaMDlBZHTC",
        "outputId": "0b0220fc-a6f2-4978-cb6f-d84f3705214f"
      },
      "execution_count": null,
      "outputs": [
        {
          "output_type": "stream",
          "name": "stdout",
          "text": [
            "Accuracy of Original Data: 100.0%\n"
          ]
        }
      ]
    },
    {
      "cell_type": "markdown",
      "source": [
        "Classification Accuracy of Reduced Data after applying PCA"
      ],
      "metadata": {
        "id": "uQ52nw0I4rsG"
      }
    },
    {
      "cell_type": "code",
      "source": [
        "PCA_train=PCA(X_train,1)\n",
        "PCA_test=PCA(X_test,1)\n"
      ],
      "metadata": {
        "colab": {
          "base_uri": "https://localhost:8080/"
        },
        "collapsed": true,
        "id": "ERDoQsoXcvpm",
        "outputId": "5d3f4140-e5b8-4631-d311-7e2d0d1fa6dd"
      },
      "execution_count": null,
      "outputs": [
        {
          "output_type": "stream",
          "name": "stdout",
          "text": [
            "Part of Data after Mean:[[-1.73519716  3.69856121]\n",
            " [-2.01015254  2.01235765]\n",
            " [ 2.75191781 -0.81488062]\n",
            " [ 1.13601706 -2.76841228]\n",
            " [ 1.02633783 -1.22252349]\n",
            " [-1.50467069  1.39309415]\n",
            " [ 2.37744835 -2.07090946]\n",
            " [ 2.29085664 -1.64936239]\n",
            " [-1.40828907  3.45974286]\n",
            " [-2.09218706  2.43143566]]\n",
            "Size of Data after Mean:(320, 2)\n",
            "Covariance Matrix of the standardize data:[[ 5.11900529 -2.44463498]\n",
            " [-2.44463498  6.38164563]]\n",
            "Size of Covariance Matrix of the standardize data:(2, 2)\n",
            "Eigen Values of the Covariance Matrix:[3.22548777 8.27516314]\n",
            "Corresponding Eigen Vectors of the Covariance Matrix:[[-0.79058329 -0.61235453]\n",
            " [-0.61235453  0.79058329]]\n",
            "Eigen Values in Decreasing Order:[8.27516314 3.22548777]\n",
            "Eigen Vectors in corresponding to decreasing eigen values:[[-0.61235453 -0.79058329]\n",
            " [ 0.79058329 -0.61235453]]\n",
            "Size of Eigen Vectors(2, 2)\n",
            "Principal components retained are:[[-0.61235453 -0.79058329]]\n",
            "Size of Principal Components(1, 2)\n",
            "Size of Reduced Data:(320, 1)\n",
            "Part of Data after Mean:[[ 0.34543841 -2.80999077]\n",
            " [ 1.24381135 -2.54596927]\n",
            " [ 0.40217551  6.49588951]\n",
            " [ 2.80959462  0.94621132]\n",
            " [-1.76752272  2.06306673]\n",
            " [-2.19719507  0.64420359]\n",
            " [ 1.51419004 -2.10163042]\n",
            " [-2.71492895  0.51555567]\n",
            " [ 1.56596343 -3.00424713]\n",
            " [-1.95764161  2.37622027]]\n",
            "Size of Data after Mean:(80, 2)\n",
            "Covariance Matrix of the standardize data:[[ 4.01208911 -2.63237592]\n",
            " [-2.63237592  7.83173224]]\n",
            "Size of Covariance Matrix of the standardize data:(2, 2)\n",
            "Eigen Values of the Covariance Matrix:[2.66970813 9.17411322]\n",
            "Corresponding Eigen Vectors of the Covariance Matrix:[[-0.89085336 -0.45429097]\n",
            " [-0.45429097  0.89085336]]\n",
            "Eigen Values in Decreasing Order:[9.17411322 2.66970813]\n",
            "Eigen Vectors in corresponding to decreasing eigen values:[[-0.45429097 -0.89085336]\n",
            " [ 0.89085336 -0.45429097]]\n",
            "Size of Eigen Vectors(2, 2)\n",
            "Principal components retained are:[[-0.45429097 -0.89085336]]\n",
            "Size of Principal Components(1, 2)\n",
            "Size of Reduced Data:(80, 1)\n"
          ]
        }
      ]
    },
    {
      "cell_type": "code",
      "source": [
        "knn.fit(PCA_train, y_train[:PCA_train.shape[0]])\n",
        "y_pred_pca = knn.predict(PCA_test)\n",
        "accuracy_pca = accuracy_score(y_test, y_pred_pca)\n",
        "print(f\"Accuracy of PCA Reduced Data: {accuracy_pca*100}%\")"
      ],
      "metadata": {
        "colab": {
          "base_uri": "https://localhost:8080/"
        },
        "collapsed": true,
        "id": "lensO3XdePQa",
        "outputId": "2546844c-e1e5-4f55-95ac-d5c544e3c91a"
      },
      "execution_count": null,
      "outputs": [
        {
          "output_type": "stream",
          "name": "stdout",
          "text": [
            "Accuracy of PCA Reduced Data: 55.00000000000001%\n"
          ]
        }
      ]
    },
    {
      "cell_type": "markdown",
      "source": [
        "Classification Accuracy of Reduced Data After Applying LDA"
      ],
      "metadata": {
        "id": "6cidMPdR40jM"
      }
    },
    {
      "cell_type": "code",
      "source": [
        "LDA_Train,ww=LDA(X_train,y_train,1)\n",
        "LDA_test,xx=LDA(X_test,y_test,1)"
      ],
      "metadata": {
        "colab": {
          "base_uri": "https://localhost:8080/"
        },
        "id": "dJQigVHzuwl9",
        "outputId": "a0b43738-2aac-44de-f115-27bb51471cfb"
      },
      "execution_count": null,
      "outputs": [
        {
          "output_type": "stream",
          "name": "stdout",
          "text": [
            "Mean Vectors: [array([1.97407225, 1.96913248]), array([ 6.05589189, -1.78920441])]\n",
            "Feature Wise Overall Mean of Data: [4.06600482 0.04298482]\n",
            "Shape of Overall Mean: (2,)\n",
            "Within Class Scatter Matrix: [[1.88785171 2.80224687]\n",
            " [2.80224687 5.68877078]]\n",
            "Shape of Within Class Scatter Matrix: (2, 2)\n",
            "Between Class Scatter Matrix: [[ 1332.06706565 -1226.50122554]\n",
            " [-1226.50122554  1129.30144062]]\n",
            "Shape of Between Class Scatter Matrix: (2, 2)\n",
            "Eigenvalues: [5.74432951e+03 2.27373675e-13]\n",
            "Eigenvectors Corresponding to Eigenvalues: [[ 0.8765483   0.67735544]\n",
            " [-0.48131391  0.73565591]]\n",
            "Eigenvalues in Decreasing Order: [5.74432951e+03 2.27373675e-13]\n",
            "Eigenvectors Corresponding to decreasing Eigenvalues: [[ 0.8765483   0.67735544]\n",
            " [-0.48131391  0.73565591]]\n",
            "Mean Vectors: [array([2.07419258, 2.01204777]), array([ 5.60358109, -2.44828975])]\n",
            "Feature Wise Overall Mean of Data: [3.66241741 0.00489589]\n",
            "Shape of Overall Mean: (2,)\n",
            "Within Class Scatter Matrix: [[1.79936937 2.67170508]\n",
            " [2.67170508 5.81621846]]\n",
            "Shape of Within Class Scatter Matrix: (2, 2)\n",
            "Between Class Scatter Matrix: [[ 246.64034752 -311.6968262 ]\n",
            " [-311.6968262   393.91329294]]\n",
            "Shape of Between Class Scatter Matrix: (2, 2)\n",
            "Eigenvalues: [1.14464728e+03 5.68434189e-14]\n",
            "Eigenvectors Corresponding to Eigenvalues: [[ 0.88063853  0.78419229]\n",
            " [-0.47378875  0.62051789]]\n",
            "Eigenvalues in Decreasing Order: [1.14464728e+03 5.68434189e-14]\n",
            "Eigenvectors Corresponding to decreasing Eigenvalues: [[ 0.88063853  0.78419229]\n",
            " [-0.47378875  0.62051789]]\n"
          ]
        }
      ]
    },
    {
      "cell_type": "code",
      "source": [
        "knn.fit(LDA_Train, y_train[:LDA_Train.shape[0]])\n",
        "y_pred_lda = knn.predict(LDA_test)\n",
        "accuracy_lda = accuracy_score(y_test, y_pred_lda)\n",
        "print(\"Accuracy of LDA Reduced Data:\", accuracy_lda*100)"
      ],
      "metadata": {
        "colab": {
          "base_uri": "https://localhost:8080/"
        },
        "id": "0j4d19L54Rw3",
        "outputId": "b9eb0d59-fae1-4c20-d0c5-3dae4250f96f"
      },
      "execution_count": null,
      "outputs": [
        {
          "output_type": "stream",
          "name": "stdout",
          "text": [
            "Accuracy of LDA Reduced Data: 100.0\n"
          ]
        }
      ]
    },
    {
      "cell_type": "markdown",
      "source": [
        "**Observations**\n",
        "\n",
        "As we can see Classification accuracy of Original data and reduced data space after applying LDA is 100% but for reduced data space after applying PCA is close to55%, this can be because while performing Dimenasionality Reduction using PCA, num of components to retain and scatter of data plays a significant role and on retaining less Prinicpal components there me be some loss of data.\n",
        "So on lower dimension LDA is performing Perfect Classification but PCA depends on serval factors which is obvious as LDA uses mean as well as variance."
      ],
      "metadata": {
        "id": "rqUi--p3484K"
      }
    }
  ]
}